{
 "cells": [
  {
   "cell_type": "code",
   "execution_count": null,
   "id": "6625cecb-3630-4c23-bdb8-21af6f17727b",
   "metadata": {},
   "outputs": [],
   "source": [
    "'''\n",
    "\n",
    "Step1: make user upload an image\n",
    "import image\n",
    "\n",
    "image upload wizard\n",
    "\n",
    "Step2: make transformations to the image\n",
    "#background\n",
    "\n",
    "Step3: run techniques selected sequentially\n",
    "import explaination.py\n",
    "ground truth\n",
    "#checkboxes : gradcam, scorecam, whatever\n",
    "\n",
    "for technique \n",
    "if(technique === 'gradcam','layercam','scorecam')\n",
    "gradcam = gradcam(image)\n",
    "\n",
    "Step4: make user select perturbation techniques:\n",
    "1. Import perturbation_methods\n",
    "2. make the image go through perturbation methods\n",
    "3. run the explaination techniques on the perturbed images.\n",
    "\n",
    "#checkboxes : occlusion, noise levels\n",
    "\n",
    "Step 5: give out meaningful metrics\n",
    "import metrics.py\n",
    "metrics(saliency_map1, saliency_map2)\n",
    "\n",
    "#table\n",
    "\n",
    "\n",
    "'''"
   ]
  },
  {
   "cell_type": "code",
   "execution_count": 145,
   "id": "85655be6-355e-4244-99c7-9f34f2ea299b",
   "metadata": {},
   "outputs": [],
   "source": [
    "import numpy as np\n",
    "from ipywidgets.widgets import Label, FloatProgress, FloatSlider, Button, RadioButtons, Checkbox, Dropdown, HTML, Image, ToggleButtons, FileUpload\n",
    "from ipywidgets.widgets import Layout, HBox, VBox, Box\n",
    "from IPython.display import display\n",
    "import bqplot as bq\n",
    "import time\n",
    "import threading"
   ]
  },
  {
   "cell_type": "code",
   "execution_count": 12,
   "id": "320e389b-2d3b-4248-9a82-b2c15359a866",
   "metadata": {},
   "outputs": [
    {
     "data": {
      "application/vnd.jupyter.widget-view+json": {
       "model_id": "570e40f2ddc34f7e8441b80d722fc7ed",
       "version_major": 2,
       "version_minor": 0
      },
      "text/plain": [
       "FileUpload(value={}, description='Upload')"
      ]
     },
     "metadata": {},
     "output_type": "display_data"
    }
   ],
   "source": [
    "image = FileUpload(\n",
    "    accept='',  # Accepted file extension e.g. '.txt', '.pdf', 'image/*', 'image/*,.pdf'\n",
    "    multiple=False  # True to accept multiple files upload else False\n",
    ")\n",
    "image"
   ]
  },
  {
   "cell_type": "code",
   "execution_count": 15,
   "id": "fce0fd6f-d017-4ac1-90d5-9fde94f2a44e",
   "metadata": {},
   "outputs": [
    {
     "ename": "AttributeError",
     "evalue": "'dict' object has no attribute 'tobytes'",
     "output_type": "error",
     "traceback": [
      "\u001b[1;31m---------------------------------------------------------------------------\u001b[0m",
      "\u001b[1;31mAttributeError\u001b[0m                            Traceback (most recent call last)",
      "\u001b[1;32m~\\AppData\\Local\\Temp\\ipykernel_34112\\388013454.py\u001b[0m in \u001b[0;36m<module>\u001b[1;34m\u001b[0m\n\u001b[1;32m----> 1\u001b[1;33m \u001b[0mImage\u001b[0m\u001b[1;33m(\u001b[0m\u001b[0mvalue\u001b[0m\u001b[1;33m=\u001b[0m\u001b[0mimage\u001b[0m\u001b[1;33m.\u001b[0m\u001b[0mvalue\u001b[0m\u001b[1;33m.\u001b[0m\u001b[0mtobytes\u001b[0m\u001b[1;33m(\u001b[0m\u001b[1;33m)\u001b[0m\u001b[1;33m)\u001b[0m\u001b[1;33m\u001b[0m\u001b[1;33m\u001b[0m\u001b[0m\n\u001b[0m",
      "\u001b[1;31mAttributeError\u001b[0m: 'dict' object has no attribute 'tobytes'"
     ]
    }
   ],
   "source": [
    "Image(value=image.value.tobytes())"
   ]
  },
  {
   "cell_type": "code",
   "execution_count": 48,
   "id": "776a402f-9a57-4999-aed2-57ab1bdf4d16",
   "metadata": {},
   "outputs": [
    {
     "data": {
      "application/vnd.jupyter.widget-view+json": {
       "model_id": "ea051f80b23b4818a25aa694392164b4",
       "version_major": 2,
       "version_minor": 0
      },
      "text/plain": [
       "Image(value=b'\\x89PNG\\r\\n\\x1a\\n\\x00\\x00\\x00\\rIHDR\\x00\\x00\\x02\\xc8\\x00\\x00\\x02\\xc8\\x08\\x06\\x00\\x00\\x00b\\xab\\x06…"
      ]
     },
     "metadata": {},
     "output_type": "display_data"
    }
   ],
   "source": [
    "Image(value=list(image.value.values())[0]['content'])"
   ]
  },
  {
   "cell_type": "code",
   "execution_count": 71,
   "id": "88633a6f-dae0-4e27-bfe2-e2d06a482d78",
   "metadata": {},
   "outputs": [
    {
     "data": {
      "application/vnd.jupyter.widget-view+json": {
       "model_id": "e7beb3dd645e48b38d108dbd31608d0b",
       "version_major": 2,
       "version_minor": 0
      },
      "text/plain": [
       "VBox(children=(VBox(children=(Label(value='Pick the saliency generation techniques(Minimum of 2 must be select…"
      ]
     },
     "metadata": {},
     "output_type": "display_data"
    }
   ],
   "source": [
    "techniques_list = [\n",
    "    Checkbox(\n",
    "        value=False,\n",
    "        description='GradCAM',\n",
    "        disabled=False,\n",
    "        indent=False\n",
    "    ),\n",
    "    Checkbox(\n",
    "        value=False,\n",
    "        description='ScoreCAM',\n",
    "        disabled=False,\n",
    "        indent=False\n",
    "    ),\n",
    "    Checkbox(\n",
    "        value=False,\n",
    "        description='GradCAM',\n",
    "        disabled=False,\n",
    "        indent=False\n",
    "    )\n",
    "]\n",
    "\n",
    "preturb_list = [\n",
    "    Checkbox(\n",
    "        value=False,\n",
    "        description='Occlusion',\n",
    "        disabled=False,\n",
    "        indent=False\n",
    "    ),\n",
    "    Checkbox(\n",
    "        value=False,\n",
    "        description='Noise',\n",
    "        disabled=False,\n",
    "        indent=False\n",
    "    ),\n",
    "]\n",
    "\n",
    "VBox([\n",
    "    VBox([Label(value=\"Pick the saliency generation techniques(Minimum of 2 must be selected):\"), HBox(techniques_list)]),\n",
    "    VBox([Label(value=\"Pick the perturbation techniques:\"), HBox(preturb_list)])\n",
    "])"
   ]
  },
  {
   "cell_type": "code",
   "execution_count": 73,
   "id": "6c0019c5-7962-481b-92b7-ffde46b71e50",
   "metadata": {},
   "outputs": [
    {
     "data": {
      "application/vnd.jupyter.widget-view+json": {
       "model_id": "c3f4c67564f845b6932f72de013e50df",
       "version_major": 2,
       "version_minor": 0
      },
      "text/plain": [
       "Image(value=b'\\xff\\xd8\\xff\\xe0\\x00\\x10JFIF\\x00\\x01\\x01\\x01\\x00\\x96\\x00\\x96\\x00\\x00\\xff\\xdb\\x00C\\x00\\x02\\x02\\x0…"
      ]
     },
     "metadata": {},
     "output_type": "display_data"
    }
   ],
   "source": [
    "img1 = Image(value=open(\"image_1.JPEG\", 'rb').read(), format='jpeg', width=300, height=400)\n",
    "\n",
    "img1"
   ]
  },
  {
   "cell_type": "code",
   "execution_count": 162,
   "id": "258bff1f-b2e7-467c-9046-fb0babc37a8e",
   "metadata": {},
   "outputs": [],
   "source": [
    "import os\n",
    "def dir_to_image_list(directory, is_checkbox=True):\n",
    "    show_img_lst = []\n",
    "    for filename in os.listdir(directory):\n",
    "        f = os.path.join(directory, filename)\n",
    "        if os.path.isfile(f):\n",
    "            img = Image(value=open(f, 'rb').read(), format='jpeg', width=300, height=400)\n",
    "            if is_checkbox:\n",
    "                checkbox= Checkbox(value=False, description=f'{filename}', disabled=False, indent=False)\n",
    "                show_img_lst.append(VBox([checkbox, img]))\n",
    "            else:\n",
    "                show_img_lst.append(img)\n",
    "    return show_img_lst"
   ]
  },
  {
   "cell_type": "code",
   "execution_count": 163,
   "id": "0f3d917d-7e59-4e45-982c-d52d13033bad",
   "metadata": {},
   "outputs": [
    {
     "data": {
      "application/vnd.jupyter.widget-view+json": {
       "model_id": "6185e75df6524191ab3030ba9974477e",
       "version_major": 2,
       "version_minor": 0
      },
      "text/plain": [
       "HBox(children=(VBox(children=(Checkbox(value=False, description='image_1.JPEG', indent=False), Image(value=b'\\…"
      ]
     },
     "metadata": {},
     "output_type": "display_data"
    }
   ],
   "source": [
    "img_list = dir_to_image_list('occu_images')\n",
    "temp = HBox(img_list)\n",
    "temp"
   ]
  },
  {
   "cell_type": "code",
   "execution_count": 169,
   "id": "a1e25dd6-8cd4-4423-92c4-37674476b343",
   "metadata": {},
   "outputs": [
    {
     "name": "stdout",
     "output_type": "stream",
     "text": [
      "Idx: 0 False, File: image_1.JPEG\n",
      "Idx: 1 True, File: image_2.JPEG\n",
      "Idx: 2 False, File: image_3.JPEG\n",
      "Idx: 3 False, File: image_4.JPEG\n"
     ]
    }
   ],
   "source": [
    "checked_list = []\n",
    "for idx, box in enumerate(img_list):\n",
    "    print(f\"Idx: {idx} {box.children[0].value}, File: {box.children[0].description}\")\n",
    "    if box.children[0].value == True:\n",
    "        checked_list.append(box.children[0].description)"
   ]
  },
  {
   "cell_type": "code",
   "execution_count": 170,
   "id": "36f03dba-87cb-46bd-8d4e-8925622ced28",
   "metadata": {},
   "outputs": [
    {
     "data": {
      "text/plain": [
       "['image_2.JPEG']"
      ]
     },
     "execution_count": 170,
     "metadata": {},
     "output_type": "execute_result"
    }
   ],
   "source": [
    "checked_list"
   ]
  },
  {
   "cell_type": "code",
   "execution_count": 140,
   "id": "01cc2035-1efd-49bb-ba3c-3ac1760e398c",
   "metadata": {},
   "outputs": [],
   "source": [
    "images_list = dir_to_image_list('occu_images', False)\n",
    "# VBox([Image(value=open(\"occu_images/image_1.JPEG\", 'rb').read(), format='jpeg', width=300, height=400),\n",
    "#      HBox()])\n",
    "\n",
    "\n",
    "for idx, img in enumerate(images_list):\n",
    "    lbl = Label(value=\"Metric\")\n",
    "    images_list[idx] = VBox([img, lbl])"
   ]
  },
  {
   "cell_type": "code",
   "execution_count": 130,
   "id": "641a17df-015a-42aa-ade7-8c6d52268079",
   "metadata": {},
   "outputs": [
    {
     "data": {
      "application/vnd.jupyter.widget-view+json": {
       "model_id": "598879e83aba41a795686393d850068a",
       "version_major": 2,
       "version_minor": 0
      },
      "text/plain": [
       "HBox(children=(Label(value='Occluded Saliency'), Label(value='Normal Saliency')))"
      ]
     },
     "metadata": {},
     "output_type": "display_data"
    }
   ],
   "source": [
    "HBox([Label(value=\"Occluded Saliency\"), Label(value=\"Normal Saliency\")])\n"
   ]
  },
  {
   "cell_type": "code",
   "execution_count": 154,
   "id": "507e208f-a854-46f7-a5cc-e93351e9aafd",
   "metadata": {},
   "outputs": [
    {
     "data": {
      "application/vnd.jupyter.widget-view+json": {
       "model_id": "f24047a1a986442e9b7c25b20d162793",
       "version_major": 2,
       "version_minor": 0
      },
      "text/plain": [
       "VBox(children=(Label(value='Reference Saliency'), Image(value=b'\\xff\\xd8\\xff\\xe0\\x00\\x10JFIF\\x00\\x01\\x01\\x01\\x…"
      ]
     },
     "metadata": {},
     "output_type": "display_data"
    }
   ],
   "source": [
    "img_list = dir_to_image_list('occu_images')\n",
    "img1 = Image(value=open(\"occu_images/image_1.JPEG\", 'rb').read(), format='jpeg', width=300, height=400)\n",
    "\n",
    "VBox([Label(value=\"Reference Saliency\"), img1, Label(value=\"Occu. Saliency\"), HBox(images_list)])"
   ]
  },
  {
   "cell_type": "code",
   "execution_count": 155,
   "id": "d4166e82-fae2-4130-b6d1-055a1427a0a2",
   "metadata": {},
   "outputs": [
    {
     "ename": "FileNotFoundError",
     "evalue": "[Errno 2] No such file or directory: 'noise_images/image_1.JPEG'",
     "output_type": "error",
     "traceback": [
      "\u001b[1;31m---------------------------------------------------------------------------\u001b[0m",
      "\u001b[1;31mFileNotFoundError\u001b[0m                         Traceback (most recent call last)",
      "\u001b[1;32m~\\AppData\\Local\\Temp\\ipykernel_34112\\2101996074.py\u001b[0m in \u001b[0;36m<module>\u001b[1;34m\u001b[0m\n\u001b[0;32m      1\u001b[0m \u001b[0mimg_list\u001b[0m \u001b[1;33m=\u001b[0m \u001b[0mdir_to_image_list\u001b[0m\u001b[1;33m(\u001b[0m\u001b[1;34m'noise_images'\u001b[0m\u001b[1;33m)\u001b[0m\u001b[1;33m\u001b[0m\u001b[1;33m\u001b[0m\u001b[0m\n\u001b[1;32m----> 2\u001b[1;33m \u001b[0mimg1\u001b[0m \u001b[1;33m=\u001b[0m \u001b[0mImage\u001b[0m\u001b[1;33m(\u001b[0m\u001b[0mvalue\u001b[0m\u001b[1;33m=\u001b[0m\u001b[0mopen\u001b[0m\u001b[1;33m(\u001b[0m\u001b[1;34m\"noise_images/image_1.JPEG\"\u001b[0m\u001b[1;33m,\u001b[0m \u001b[1;34m'rb'\u001b[0m\u001b[1;33m)\u001b[0m\u001b[1;33m.\u001b[0m\u001b[0mread\u001b[0m\u001b[1;33m(\u001b[0m\u001b[1;33m)\u001b[0m\u001b[1;33m,\u001b[0m \u001b[0mformat\u001b[0m\u001b[1;33m=\u001b[0m\u001b[1;34m'jpeg'\u001b[0m\u001b[1;33m,\u001b[0m \u001b[0mwidth\u001b[0m\u001b[1;33m=\u001b[0m\u001b[1;36m300\u001b[0m\u001b[1;33m,\u001b[0m \u001b[0mheight\u001b[0m\u001b[1;33m=\u001b[0m\u001b[1;36m400\u001b[0m\u001b[1;33m)\u001b[0m\u001b[1;33m\u001b[0m\u001b[1;33m\u001b[0m\u001b[0m\n\u001b[0m\u001b[0;32m      3\u001b[0m \u001b[1;33m\u001b[0m\u001b[0m\n\u001b[0;32m      4\u001b[0m \u001b[0mVBox\u001b[0m\u001b[1;33m(\u001b[0m\u001b[1;33m[\u001b[0m\u001b[0mLabel\u001b[0m\u001b[1;33m(\u001b[0m\u001b[0mvalue\u001b[0m\u001b[1;33m=\u001b[0m\u001b[1;34m\"Reference Saliency\"\u001b[0m\u001b[1;33m)\u001b[0m\u001b[1;33m,\u001b[0m \u001b[0mimg1\u001b[0m\u001b[1;33m,\u001b[0m \u001b[0mLabel\u001b[0m\u001b[1;33m(\u001b[0m\u001b[0mvalue\u001b[0m\u001b[1;33m=\u001b[0m\u001b[1;34m\"Occu. Saliency\"\u001b[0m\u001b[1;33m)\u001b[0m\u001b[1;33m,\u001b[0m \u001b[0mHBox\u001b[0m\u001b[1;33m(\u001b[0m\u001b[0mimages_list\u001b[0m\u001b[1;33m)\u001b[0m\u001b[1;33m]\u001b[0m\u001b[1;33m)\u001b[0m\u001b[1;33m\u001b[0m\u001b[1;33m\u001b[0m\u001b[0m\n",
      "\u001b[1;31mFileNotFoundError\u001b[0m: [Errno 2] No such file or directory: 'noise_images/image_1.JPEG'"
     ]
    }
   ],
   "source": [
    "img_list = dir_to_image_list('noise_images')\n",
    "img1 = Image(value=open(\"noise_images/image_1.JPEG\", 'rb').read(), format='jpeg', width=300, height=400)\n",
    "\n",
    "VBox([Label(value=\"Reference Saliency\"), img1, Label(value=\"Occu. Saliency\"), HBox(images_list)])"
   ]
  },
  {
   "cell_type": "code",
   "execution_count": 160,
   "id": "5b34ebb4-c788-497d-88fc-eef2cc04fea3",
   "metadata": {},
   "outputs": [
    {
     "ename": "TypeError",
     "evalue": "'VBox' object is not subscriptable",
     "output_type": "error",
     "traceback": [
      "\u001b[1;31m---------------------------------------------------------------------------\u001b[0m",
      "\u001b[1;31mTypeError\u001b[0m                                 Traceback (most recent call last)",
      "\u001b[1;32m~\\AppData\\Local\\Temp\\ipykernel_34112\\3029634601.py\u001b[0m in \u001b[0;36m<module>\u001b[1;34m\u001b[0m\n\u001b[1;32m----> 1\u001b[1;33m \u001b[0mtemp\u001b[0m\u001b[1;33m.\u001b[0m\u001b[0mchildren\u001b[0m\u001b[1;33m[\u001b[0m\u001b[1;36m1\u001b[0m\u001b[1;33m]\u001b[0m\u001b[1;33m[\u001b[0m\u001b[1;36m0\u001b[0m\u001b[1;33m]\u001b[0m\u001b[1;33m\u001b[0m\u001b[1;33m\u001b[0m\u001b[0m\n\u001b[0m",
      "\u001b[1;31mTypeError\u001b[0m: 'VBox' object is not subscriptable"
     ]
    }
   ],
   "source": [
    "temp.children[1].children[0]"
   ]
  },
  {
   "cell_type": "code",
   "execution_count": 165,
   "id": "d143180f-acb7-4c90-843d-67aae4df080c",
   "metadata": {},
   "outputs": [
    {
     "data": {
      "application/vnd.jupyter.widget-view+json": {
       "model_id": "820c71452d8d4e169ef1d203e4bcd84e",
       "version_major": 2,
       "version_minor": 0
      },
      "text/plain": [
       "HBox(children=(VBox(children=(Checkbox(value=False, description='image_1.JPEG', indent=False), Image(value=b'\\…"
      ]
     },
     "metadata": {},
     "output_type": "display_data"
    }
   ],
   "source": [
    "HBox(img_list)"
   ]
  },
  {
   "cell_type": "code",
   "execution_count": null,
   "id": "cbaafafe-703c-4d97-b881-d21b45f78948",
   "metadata": {},
   "outputs": [],
   "source": []
  }
 ],
 "metadata": {
  "kernelspec": {
   "display_name": "Python 3 (ipykernel)",
   "language": "python",
   "name": "python3"
  },
  "language_info": {
   "codemirror_mode": {
    "name": "ipython",
    "version": 3
   },
   "file_extension": ".py",
   "mimetype": "text/x-python",
   "name": "python",
   "nbconvert_exporter": "python",
   "pygments_lexer": "ipython3",
   "version": "3.8.10"
  }
 },
 "nbformat": 4,
 "nbformat_minor": 5
}
