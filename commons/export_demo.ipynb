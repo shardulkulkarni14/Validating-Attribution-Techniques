{
 "cells": [
  {
   "cell_type": "code",
   "execution_count": 1,
   "id": "1f5754a0",
   "metadata": {},
   "outputs": [],
   "source": [
    "#| default_exp export_demo"
   ]
  },
  {
   "cell_type": "code",
   "execution_count": 2,
   "id": "2674d29c",
   "metadata": {},
   "outputs": [],
   "source": [
    "#| export\n",
    "import numpy as np"
   ]
  },
  {
   "cell_type": "code",
   "execution_count": 3,
   "id": "5fca792b",
   "metadata": {},
   "outputs": [],
   "source": [
    "#| export\n",
    "def sum(num1, num2):\n",
    "     return num1+num2"
   ]
  },
  {
   "cell_type": "code",
   "execution_count": 4,
   "id": "1c806bff",
   "metadata": {},
   "outputs": [],
   "source": [
    "#| hide\n",
    "from nbdev.export import nb_export\n",
    "nb_export('export_demo.ipynb', 'api/') # arg1 : name of notebook, arg2 : location of the export relative to the current directory"
   ]
  },
  {
   "cell_type": "code",
   "execution_count": null,
   "id": "97df58c3",
   "metadata": {},
   "outputs": [],
   "source": []
  }
 ],
 "metadata": {
  "kernelspec": {
   "display_name": "Python 3 (ipykernel)",
   "language": "python",
   "name": "python3"
  },
  "language_info": {
   "codemirror_mode": {
    "name": "ipython",
    "version": 3
   },
   "file_extension": ".py",
   "mimetype": "text/x-python",
   "name": "python",
   "nbconvert_exporter": "python",
   "pygments_lexer": "ipython3",
   "version": "3.8.10"
  }
 },
 "nbformat": 4,
 "nbformat_minor": 5
}
