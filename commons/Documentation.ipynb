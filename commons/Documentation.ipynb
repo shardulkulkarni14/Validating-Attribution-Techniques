{
 "cells": [
  {
   "cell_type": "markdown",
   "id": "29427fc8",
   "metadata": {},
   "source": [
    "- Intro\n",
    "  - Abstract\n",
    "  - Motivation             -> Saikat\n",
    "  - To be written...\n",
    "\n",
    "- Background\n",
    "  - Models (4 more models)\n",
    "    1. ViT (Deit)          -> Abid\n",
    "    2. ResNet50 (ResNet18) -> Saikat\n",
    "    3. Inception           -> Saikat\n",
    "    4. VGG16               -> Saikat\n",
    "    5. YOLOv8 (just a bit) -> Abid\n",
    "\n",
    "\n",
    "  - Saliency Gen. Methods\n",
    "    1. GradCAM             -> Saikat\n",
    "    2. ScoreCAM            -> Saikat\n",
    "    3. Attention Rollout   -> Abid\n",
    "    4. GradCAM++ (?)       -> Saikat\n",
    "    5. Smooth Grad (?)     -> Saikat\n",
    "    6. Ground Saliency     -> Abid (Introduction only)\n",
    "\n",
    "  - Attribution Techniques (?)\n",
    "    1. Occlusion Based     -> Shardul \n",
    "    2. Noise Based         -> Shardul\n",
    "    3. Segmentation Based  -> Abid\n",
    "    4. Inter-Model Sal.    -> Abid\n",
    "\n",
    "  - Metric\n",
    "    1. AUC                 -> Saikat\n",
    "    2. SIM                 -> Shardul\n",
    "    3. NSS                 -> Harshit\n",
    "    4. Pearson Coor.       -> Harshit\n",
    "    5. TMD                 -> Harshit\n",
    "    6. IUC/DUC             -> Harshit, Abid\n",
    "    7. IOR                 -> Abid (Introduction only)\n",
    "    8. Occlusion Sens.     -> Abid (Introduction only)\n",
    "\n",
    "- Experiments\n",
    "    1. ViT vs ResNet50 (?) -> Abid\n",
    "\n",
    "  - Single Model Experiment (ResNet50) -> Saikat, Shardul, Harshit\n",
    "   - ...\n",
    "   - Ground Truth Saliency Generated   -> Abid\n",
    "\n",
    "  - Dual Model Experiments -> Abid\n",
    "    - ...\n",
    "    - Section related to Metrics using ViT and ResNet -> Shardul\n",
    "\n",
    "  - More Models (?) [ResNet18, VGG?, ...]\n",
    "  \n",
    "- Conclusion\n",
    "- References\n"
   ]
  },
  {
   "cell_type": "code",
   "execution_count": null,
   "id": "386526d9",
   "metadata": {},
   "outputs": [],
   "source": []
  }
 ],
 "metadata": {
  "kernelspec": {
   "display_name": "Python 3 (ipykernel)",
   "language": "python",
   "name": "python3"
  },
  "language_info": {
   "codemirror_mode": {
    "name": "ipython",
    "version": 3
   },
   "file_extension": ".py",
   "mimetype": "text/x-python",
   "name": "python",
   "nbconvert_exporter": "python",
   "pygments_lexer": "ipython3",
   "version": "3.8.10"
  }
 },
 "nbformat": 4,
 "nbformat_minor": 5
}
