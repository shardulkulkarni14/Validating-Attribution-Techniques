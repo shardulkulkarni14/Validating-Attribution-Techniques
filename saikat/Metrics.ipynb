{
 "cells": [
  {
   "cell_type": "code",
   "execution_count": null,
   "id": "b8186fd6",
   "metadata": {},
   "outputs": [],
   "source": [
    "import torch\n",
    "import torchvision\n",
    "from torch.nn import functional as F\n",
    "from PIL import Image\n",
    "import matplotlib.pyplot as plt\n",
    "import numpy as np\n",
    "from torchvision import transforms\n",
    "import cv2\n",
    "import os\n",
    "import tensorflow as tf\n",
    "from tensorflow import keras"
   ]
  },
  {
   "cell_type": "code",
   "execution_count": null,
   "id": "fdccaa31",
   "metadata": {},
   "outputs": [],
   "source": [
    "import os\n",
    "\n",
    "os.environ['HTTP_PROXY'] = 'http://fp.cs.ovgu.de:3210/'\n",
    "os.environ['HTTPS_PROXY'] = 'http://fp.cs.ovgu.de:3210/'\n",
    "\n",
    "# !git clone https://github.com/yiskw713/ScoreCAM.git"
   ]
  },
  {
   "cell_type": "code",
   "execution_count": null,
   "id": "dd9344c3",
   "metadata": {},
   "outputs": [],
   "source": [
    "%cd /project/validating_attribution_techniques/commons/ScoreCAM"
   ]
  },
  {
   "cell_type": "code",
   "execution_count": null,
   "id": "e62fa1c3",
   "metadata": {},
   "outputs": [],
   "source": [
    "!nvidia-smi"
   ]
  },
  {
   "cell_type": "code",
   "execution_count": null,
   "id": "9019b6a8",
   "metadata": {},
   "outputs": [],
   "source": [
    "os.environ['CUDA_VISIBLE_DEVICES'] = \"2,3\"\n",
    "ngpu = torch.cuda.device_count()\n",
    "for gpu_id in range(ngpu):\n",
    "    gpu = torch.cuda.get_device_name(gpu_id)\n",
    "    print(f\"GPU:{gpu_id} {gpu}\")"
   ]
  },
  {
   "cell_type": "code",
   "execution_count": null,
   "id": "cfd38843",
   "metadata": {},
   "outputs": [],
   "source": [
    "%matplotlib inline\n",
    "\n",
    "import numpy as np\n",
    "import skimage.transform\n",
    "import torch\n",
    "import torch.nn as nn\n",
    "import torch.nn.functional as F\n",
    "# from ScoreCAM import cam\n",
    "\n",
    "from PIL import Image\n",
    "from matplotlib.pyplot import imshow\n",
    "from torchvision import models, transforms\n",
    "from torchvision.utils import save_image\n",
    "\n",
    "from cam import CAM, GradCAM, GradCAMpp, SmoothGradCAMpp, ScoreCAM\n",
    "from utils.visualize import visualize, reverse_normalize\n",
    "from utils.imagenet_labels import label2idx, idx2label"
   ]
  },
  {
   "cell_type": "markdown",
   "id": "7d401bbe",
   "metadata": {},
   "source": [
    "# Loading Original Image"
   ]
  },
  {
   "cell_type": "code",
   "execution_count": null,
   "id": "0e24f7aa",
   "metadata": {},
   "outputs": [],
   "source": [
    "image = Image.open('/project/validating_attribution_techniques/saikat/Source_images/Original_image/cat_dog.jpeg')\n",
    "imshow(image)"
   ]
  },
  {
   "cell_type": "markdown",
   "id": "2577cf0e",
   "metadata": {},
   "source": [
    "# Preprocessing Test Image"
   ]
  },
  {
   "cell_type": "code",
   "execution_count": null,
   "id": "c10a8d75",
   "metadata": {},
   "outputs": [],
   "source": [
    "def preprocessing(image):\n",
    "    # Resize the image\n",
    "    size = (224, 224)\n",
    "    image = image.resize(size)\n",
    "    \n",
    "    # preprocessing. mean and std from ImageNet\n",
    "    normalize = transforms.Normalize(\n",
    "       mean=[0.485, 0.456, 0.406],\n",
    "       std=[0.229, 0.224, 0.225]\n",
    "    )\n",
    "\n",
    "    preprocess = transforms.Compose([\n",
    "        transforms.ToTensor(),\n",
    "        normalize\n",
    "    ])\n",
    "\n",
    "    # convert image to tensor\n",
    "    tensor = preprocess(image)\n",
    "\n",
    "    # reshape 4D tensor (N, C, H, W)\n",
    "    tensor = tensor.unsqueeze(0)\n",
    "    \n",
    "    return tensor"
   ]
  },
  {
   "cell_type": "code",
   "execution_count": null,
   "id": "a8f00d22",
   "metadata": {},
   "outputs": [],
   "source": [
    "tensor = preprocessing(image)\n",
    "tensor.shape"
   ]
  },
  {
   "cell_type": "code",
   "execution_count": null,
   "id": "6c0baeb5",
   "metadata": {},
   "outputs": [],
   "source": [
    "use_cuda = True\n",
    "device = torch.device(\"cuda\" if use_cuda else \"cpu\")\n",
    "model = torch.hub.load('pytorch/vision:v0.10.0', 'resnet50', pretrained=True).to(device)"
   ]
  },
  {
   "cell_type": "code",
   "execution_count": null,
   "id": "33dfbaa4",
   "metadata": {},
   "outputs": [],
   "source": [
    "gpu_reference_tensor = next(model.parameters())\n",
    "tensor = tensor.type_as(gpu_reference_tensor)"
   ]
  },
  {
   "cell_type": "markdown",
   "id": "4fb47a31",
   "metadata": {},
   "source": [
    "# Model Target Layer"
   ]
  },
  {
   "cell_type": "code",
   "execution_count": null,
   "id": "a85f6724",
   "metadata": {},
   "outputs": [],
   "source": [
    "target_layer = model.layer4[1].conv2"
   ]
  },
  {
   "cell_type": "code",
   "execution_count": null,
   "id": "20b7ea56",
   "metadata": {},
   "outputs": [],
   "source": [
    "classes = open(\"/project/validating_attribution_techniques/shardul/classes.txt\").read().splitlines()"
   ]
  },
  {
   "cell_type": "markdown",
   "id": "15c663ff",
   "metadata": {},
   "source": [
    "# Attribution Technique Function: GradCAM"
   ]
  },
  {
   "cell_type": "code",
   "execution_count": null,
   "id": "b02dcb72",
   "metadata": {},
   "outputs": [],
   "source": [
    "def gradCAM(target_layer, model, tensor):\n",
    "    wrapped_model = GradCAM(model, target_layer)\n",
    "    cam, idx = wrapped_model(tensor)\n",
    "    return cam, idx"
   ]
  },
  {
   "cell_type": "markdown",
   "id": "75e04f34",
   "metadata": {},
   "source": [
    "# Attribution Technique Function: ScoreCAM"
   ]
  },
  {
   "cell_type": "code",
   "execution_count": null,
   "id": "e2dd941f",
   "metadata": {},
   "outputs": [],
   "source": [
    "def scoreCAM(target_layer, model, tensor):\n",
    "    wrapped_model = ScoreCAM(model, target_layer)\n",
    "    cam, idx = wrapped_model(tensor)\n",
    "    return cam, idx"
   ]
  },
  {
   "cell_type": "markdown",
   "id": "30bfb4cf",
   "metadata": {},
   "source": [
    "# Attribution Technique Function: SmoothGradCAMpp"
   ]
  },
  {
   "cell_type": "code",
   "execution_count": null,
   "id": "78e1b173",
   "metadata": {},
   "outputs": [],
   "source": [
    "def smoothGradCAMpp(target_layer, model, tensor):\n",
    "    wrapped_model = SmoothGradCAMpp(model, target_layer, n_samples=25, stdev_spread=0.15)\n",
    "    cam, idx = wrapped_model(tensor)\n",
    "    return cam, idx"
   ]
  },
  {
   "cell_type": "markdown",
   "id": "ce40b93f",
   "metadata": {},
   "source": [
    "# Saliency Map Generation Function"
   ]
  },
  {
   "cell_type": "code",
   "execution_count": null,
   "id": "617caed6",
   "metadata": {},
   "outputs": [],
   "source": [
    "def saliency_map(tensor, cam):\n",
    "    tensor = tensor.cpu()\n",
    "    img = reverse_normalize(tensor)\n",
    "    heatmap = visualize(img, cam)\n",
    "    heatmap = np.transpose(heatmap.squeeze(), (1, 2, 0))\n",
    "    return heatmap"
   ]
  },
  {
   "cell_type": "markdown",
   "id": "55bb16d1",
   "metadata": {},
   "source": [
    "# GradCAM on Original Image"
   ]
  },
  {
   "cell_type": "code",
   "execution_count": null,
   "id": "aaf29567",
   "metadata": {},
   "outputs": [],
   "source": [
    "cam, idx = gradCAM(target_layer, model, tensor)\n",
    "cam = cam.cpu()\n",
    "print(idx)\n",
    "print(idx2label[idx])"
   ]
  },
  {
   "cell_type": "code",
   "execution_count": null,
   "id": "5b97a9ae",
   "metadata": {},
   "outputs": [],
   "source": [
    "fig, ax = plt.subplots()\n",
    "heatmap = saliency_map(tensor, cam)\n",
    "ax.imshow(heatmap, cmap='turbo', alpha = 0.8)\n",
    "ax.set_title(f\"Class: {classes[idx]}\")\n",
    "fig.savefig(f\"/project/validating_attribution_techniques/saikat/Results/GradCAM/Original_image/{idx2label[idx]}.jpeg\")"
   ]
  },
  {
   "cell_type": "markdown",
   "id": "85dd4c73",
   "metadata": {},
   "source": [
    "# ScoreCAM on Original Image"
   ]
  },
  {
   "cell_type": "code",
   "execution_count": null,
   "id": "cafee968",
   "metadata": {},
   "outputs": [],
   "source": [
    "cam, idx = scoreCAM(target_layer, model, tensor)\n",
    "cam = cam.cpu()\n",
    "print(idx)\n",
    "print(idx2label[idx])"
   ]
  },
  {
   "cell_type": "code",
   "execution_count": null,
   "id": "8f1d5e76",
   "metadata": {},
   "outputs": [],
   "source": [
    "fig, ax = plt.subplots()\n",
    "heatmap = saliency_map(tensor, cam)\n",
    "ax.imshow(heatmap, cmap='turbo', alpha = 0.8)\n",
    "ax.set_title(f\"Class: {classes[idx]}\")\n",
    "fig.savefig(f\"/project/validating_attribution_techniques/saikat/Results/ScoreCAM/Original_image/{idx2label[idx]}.jpeg\")"
   ]
  },
  {
   "cell_type": "markdown",
   "id": "1d4c972c",
   "metadata": {},
   "source": [
    "# SmoothGradCAM on Original Image"
   ]
  },
  {
   "cell_type": "code",
   "execution_count": null,
   "id": "6c71b14f",
   "metadata": {},
   "outputs": [],
   "source": [
    "cam, idx = smoothGradCAMpp(target_layer, model, tensor)\n",
    "cam = cam.cpu()\n",
    "print(idx)\n",
    "print(idx2label[idx])"
   ]
  },
  {
   "cell_type": "code",
   "execution_count": null,
   "id": "89d67844",
   "metadata": {},
   "outputs": [],
   "source": [
    "fig, ax = plt.subplots()\n",
    "heatmap = saliency_map(tensor, cam)\n",
    "ax.imshow(heatmap, cmap='turbo', alpha = 0.8)\n",
    "ax.set_title(f\"Class: {classes[idx]}\")\n",
    "fig.savefig(f\"/project/validating_attribution_techniques/saikat/Results/SmoothGradCAMpp/Original_image/{idx2label[idx]}.jpeg\")"
   ]
  },
  {
   "cell_type": "markdown",
   "id": "5b16cf1f",
   "metadata": {},
   "source": [
    "# Creating and Saving Occluded Images"
   ]
  },
  {
   "cell_type": "code",
   "execution_count": null,
   "id": "7ff98fc3",
   "metadata": {},
   "outputs": [],
   "source": [
    "#Creating the patch\n",
    "PATCH_SIZE = 60\n",
    "def apply_grey_patch(path, image, top_left_x, top_left_y, patch_size):\n",
    "    patched_image = np.array(image, copy=True)\n",
    "    patched_image[top_left_y:top_left_y + patch_size, top_left_x:top_left_x + patch_size, :] = 0\n",
    "    img = keras.preprocessing.image.array_to_img(patched_image)\n",
    "    print(path)\n",
    "    img.save(path)\n",
    "    print(np.shape(patched_image))\n",
    "    return patched_image"
   ]
  },
  {
   "cell_type": "code",
   "execution_count": null,
   "id": "5fdaa4f0",
   "metadata": {},
   "outputs": [],
   "source": [
    "#Putting the patch over the image\n",
    "image_path = \"/project/validating_attribution_techniques/saikat/Source_images/Original_image/cat_dog.jpeg\"\n",
    "image = tf.keras.preprocessing.image.load_img(image_path, target_size=(224, 224))\n",
    "image = tf.keras.preprocessing.image.img_to_array(image)\n",
    "\n",
    "i = 0\n",
    "# Iterate the patch over the image\n",
    "for top_left_x in range(0, image.shape[0], PATCH_SIZE):\n",
    "    for top_left_y in range(0, image.shape[1], PATCH_SIZE):\n",
    "        # Apply the patch and display the image\n",
    "        path = \"/home/smitra/project/validating_attribution_techniques/saikat/Source_images/Occluded_images/occluded_img_\" + str(i) + \".jpg\"\n",
    "        i+=1\n",
    "        patched_image = apply_grey_patch(path,image, top_left_x, top_left_y, PATCH_SIZE)\n",
    "        patched_image = patched_image.astype('float32') / 255.0\n",
    "#         n_patched_image "
   ]
  },
  {
   "cell_type": "markdown",
   "id": "b90d633e",
   "metadata": {},
   "source": [
    "# Finding out number of Occluded Images generated"
   ]
  },
  {
   "cell_type": "code",
   "execution_count": null,
   "id": "99c2d26a",
   "metadata": {},
   "outputs": [],
   "source": [
    "dir_path = \"/home/smitra/project/validating_attribution_techniques/saikat/Source_images/Occluded_images/\"\n",
    "count = 0\n",
    "# Iterate directory\n",
    "for path in os.listdir(dir_path):\n",
    "    # check if current path is a file\n",
    "    if os.path.isfile(os.path.join(dir_path, path)):\n",
    "        count += 1\n",
    "print('File count:', count)"
   ]
  },
  {
   "cell_type": "markdown",
   "id": "4c9f09c2",
   "metadata": {},
   "source": [
    "# GradCAM on Occluded Images"
   ]
  },
  {
   "cell_type": "code",
   "execution_count": null,
   "id": "0fd7bde0",
   "metadata": {},
   "outputs": [],
   "source": [
    "fig, ax = plt.subplots()\n",
    "\n",
    "for i in range(0,count):\n",
    "    img = tf.keras.preprocessing.image.load_img(\"/home/smitra/project/validating_attribution_techniques/saikat/Source_images/Occluded_images/occluded_img_\" + str(i) + \".jpg\")\n",
    "    tensor = preprocessing(img) # calling the preprocessing function\n",
    "    gpu_reference_tensor = next(model.parameters())\n",
    "    tensor = tensor.type_as(gpu_reference_tensor)\n",
    "    cam, idx = gradCAM(target_layer, model, tensor)\n",
    "    cam = cam.cpu()\n",
    "    print(idx)\n",
    "    print(idx2label[idx])\n",
    "    heatmap = saliency_map(tensor, cam)\n",
    "    ax.imshow(heatmap, cmap='turbo', alpha = 0.8)\n",
    "    ax.set_title(f\"Class: {idx2label[idx]}\")\n",
    "    fig.savefig(f\"/project/validating_attribution_techniques/saikat/Results/GradCAM/Occluded_images/{i}_{idx2label[idx]}.jpg\")"
   ]
  },
  {
   "cell_type": "markdown",
   "id": "49b664c6",
   "metadata": {},
   "source": [
    "# ScoreCAM on Occluded Images"
   ]
  },
  {
   "cell_type": "code",
   "execution_count": null,
   "id": "4c0e96e0",
   "metadata": {},
   "outputs": [],
   "source": [
    "fig, ax = plt.subplots()\n",
    "\n",
    "for i in range(0,count):\n",
    "    img = tf.keras.preprocessing.image.load_img(\"/home/smitra/project/validating_attribution_techniques/saikat/Source_images/Occluded_images/occluded_img_\" + str(i) + \".jpg\")\n",
    "    tensor = preprocessing(img) # calling the preprocessing function\n",
    "    gpu_reference_tensor = next(model.parameters())\n",
    "    tensor = tensor.type_as(gpu_reference_tensor)\n",
    "    cam, idx = scoreCAM(target_layer, model, tensor)\n",
    "    cam = cam.cpu()\n",
    "    print(idx)\n",
    "    print(idx2label[idx])\n",
    "    heatmap = saliency_map(tensor, cam)\n",
    "    ax.imshow(heatmap, cmap='turbo', alpha = 0.8)\n",
    "    ax.set_title(f\"Class: {idx2label[idx]}\")\n",
    "    fig.savefig(f\"/project/validating_attribution_techniques/saikat/Results/ScoreCAM/Occluded_images/{i}_{idx2label[idx]}.jpg\")"
   ]
  },
  {
   "cell_type": "markdown",
   "id": "11204a6d",
   "metadata": {},
   "source": [
    "# SmoothGradCAM on Occluded Images"
   ]
  },
  {
   "cell_type": "code",
   "execution_count": null,
   "id": "e9421eb4",
   "metadata": {},
   "outputs": [],
   "source": [
    "fig, ax = plt.subplots()\n",
    "\n",
    "for i in range(0,count):\n",
    "    img = tf.keras.preprocessing.image.load_img(\"/home/smitra/project/validating_attribution_techniques/saikat/Source_images/Occluded_images/occluded_img_\" + str(i) + \".jpg\")\n",
    "    tensor = preprocessing(img) # calling the preprocessing function\n",
    "    gpu_reference_tensor = next(model.parameters())\n",
    "    tensor = tensor.type_as(gpu_reference_tensor)\n",
    "    cam, idx = smoothGradCAMpp(target_layer, model, tensor)\n",
    "    cam = cam.cpu()\n",
    "    print(idx)\n",
    "    print(idx2label[idx])\n",
    "    heatmap = saliency_map(tensor, cam)\n",
    "    ax.imshow(heatmap, cmap='turbo', alpha = 0.8)\n",
    "    ax.set_title(f\"Class: {idx2label[idx]}\")\n",
    "    fig.savefig(f\"/home/smitra/project/validating_attribution_techniques/saikat/Results/SmoothGradCAMpp/Occluded_images/{i}_{idx2label[idx]}.jpg\")"
   ]
  },
  {
   "cell_type": "markdown",
   "id": "9d67fc3e",
   "metadata": {},
   "source": [
    "# Adding Guassian Noise"
   ]
  },
  {
   "cell_type": "code",
   "execution_count": null,
   "id": "36cae03a",
   "metadata": {},
   "outputs": [],
   "source": [
    "image = cv2.cvtColor(image, cv2.COLOR_BGR2RGB)\n",
    "\n",
    "mean = 0\n",
    "variance = 1.5\n",
    "stddev = variance ** 0.5\n",
    "noise = np.random.normal(mean, stddev, image.shape).astype(np.float32)\n",
    "noise = np.uint8(noise)  # Convert noise array to uint8\n",
    "\n",
    "# Add noise to the image using element-wise addition\n",
    "image_with_noise = np.clip(image + noise, 0, 255).astype(np.uint8)\n",
    "\n",
    "imshow(image_with_noise)"
   ]
  },
  {
   "cell_type": "code",
   "execution_count": null,
   "id": "7cb1e526",
   "metadata": {},
   "outputs": [],
   "source": [
    "# Resize the image\n",
    "size = (224, 224)\n",
    "image = image.resize(size)\n",
    "    \n",
    "# preprocessing. mean and std from ImageNet\n",
    "normalize = transforms.Normalize(\n",
    "    mean=[0.485, 0.456, 0.406],\n",
    "    std=[0.229, 0.224, 0.225]\n",
    ")\n",
    "\n",
    "preprocess = transforms.Compose([\n",
    "    transforms.ToTensor(),\n",
    "    normalize\n",
    "])\n",
    "\n",
    "# convert image to tensor\n",
    "tensor = preprocess(image)\n",
    "\n",
    "# reshape 4D tensor (N, C, H, W)\n",
    "tensor = tensor.unsqueeze(0)\n",
    "    \n",
    "return tensor\n",
    "\n",
    "gpu_reference_tensor = next(model.parameters())\n",
    "tensor = tensor.type_as(gpu_reference_tensor)"
   ]
  },
  {
   "cell_type": "markdown",
   "id": "1bf45c51",
   "metadata": {},
   "source": [
    "# GradCAM on Noisy Image"
   ]
  },
  {
   "cell_type": "code",
   "execution_count": null,
   "id": "6d8c3d05",
   "metadata": {},
   "outputs": [],
   "source": [
    "cam, idx = smoothGradCAMpp(target_layer, model, tensor)\n",
    "cam = cam.cpu()\n",
    "print(idx)\n",
    "print(idx2label[idx])"
   ]
  },
  {
   "cell_type": "code",
   "execution_count": null,
   "id": "4b437599",
   "metadata": {},
   "outputs": [],
   "source": [
    "fig, ax = plt.subplots()\n",
    "heatmap = saliency_map(tensor, cam)\n",
    "ax.imshow(heatmap, cmap='turbo', alpha = 0.8)\n",
    "ax.set_title(f\"Class: {classes[idx]}\")\n",
    "fig.savefig(f\"/project/validating_attribution_techniques/saikat/Results/GradCAM/Noisy_image/{idx2label[idx]}.jpeg\")"
   ]
  },
  {
   "cell_type": "markdown",
   "id": "fcbd3556",
   "metadata": {},
   "source": [
    "# ScoreCAM on Noisy Image"
   ]
  },
  {
   "cell_type": "code",
   "execution_count": null,
   "id": "44166dcb",
   "metadata": {},
   "outputs": [],
   "source": [
    "cam, idx = smoothGradCAMpp(target_layer, model, tensor)\n",
    "cam = cam.cpu()\n",
    "print(idx)\n",
    "print(idx2label[idx])"
   ]
  },
  {
   "cell_type": "code",
   "execution_count": null,
   "id": "7e8a7806",
   "metadata": {},
   "outputs": [],
   "source": [
    "fig, ax = plt.subplots()\n",
    "heatmap = saliency_map(tensor, cam)\n",
    "ax.imshow(heatmap, cmap='turbo', alpha = 0.8)\n",
    "ax.set_title(f\"Class: {classes[idx]}\")\n",
    "fig.savefig(f\"/project/validating_attribution_techniques/saikat/Results/ScoreCAM/Noisy_image/{idx2label[idx]}.jpeg\")"
   ]
  },
  {
   "cell_type": "markdown",
   "id": "972263c6",
   "metadata": {},
   "source": [
    "# SmoothGradCAMpp on Noisy Image"
   ]
  },
  {
   "cell_type": "code",
   "execution_count": null,
   "id": "0df4857c",
   "metadata": {},
   "outputs": [],
   "source": [
    "cam, idx = smoothGradCAMpp(target_layer, model, tensor)\n",
    "cam = cam.cpu()\n",
    "print(idx)\n",
    "print(idx2label[idx])"
   ]
  },
  {
   "cell_type": "code",
   "execution_count": null,
   "id": "ae1e9c54",
   "metadata": {},
   "outputs": [],
   "source": [
    "fig, ax = plt.subplots()\n",
    "heatmap = saliency_map(tensor, cam)\n",
    "ax.imshow(heatmap, cmap='turbo', alpha = 0.8)\n",
    "ax.set_title(f\"Class: {classes[idx]}\")\n",
    "fig.savefig(f\"/project/validating_attribution_techniques/saikat/Results/SmoothGradCAMpp/Noisy_image/{idx2label[idx]}.jpeg\")"
   ]
  },
  {
   "cell_type": "markdown",
   "id": "891b31bc",
   "metadata": {},
   "source": [
    "# KL Divergence between Original and Occluded Saliency"
   ]
  },
  {
   "cell_type": "code",
   "execution_count": null,
   "id": "ecc1421b",
   "metadata": {},
   "outputs": [],
   "source": []
  },
  {
   "cell_type": "markdown",
   "id": "511c2d38",
   "metadata": {},
   "source": [
    "# Pearson Correlation Coefficient between Original and Occluded Saliency"
   ]
  },
  {
   "cell_type": "code",
   "execution_count": null,
   "id": "0889885f",
   "metadata": {},
   "outputs": [],
   "source": []
  },
  {
   "cell_type": "markdown",
   "id": "99d311e5",
   "metadata": {},
   "source": [
    "# KL Divergence between Original and Noisy Saliency"
   ]
  },
  {
   "cell_type": "code",
   "execution_count": null,
   "id": "204750d7",
   "metadata": {},
   "outputs": [],
   "source": []
  },
  {
   "cell_type": "markdown",
   "id": "1abe806f",
   "metadata": {},
   "source": [
    "# Pearson Correlation Coefficient between Original and Noisy Saliency"
   ]
  },
  {
   "cell_type": "code",
   "execution_count": null,
   "id": "40eb3ead",
   "metadata": {},
   "outputs": [],
   "source": []
  }
 ],
 "metadata": {
  "kernelspec": {
   "display_name": "Python 3 (ipykernel)",
   "language": "python",
   "name": "python3"
  },
  "language_info": {
   "codemirror_mode": {
    "name": "ipython",
    "version": 3
   },
   "file_extension": ".py",
   "mimetype": "text/x-python",
   "name": "python",
   "nbconvert_exporter": "python",
   "pygments_lexer": "ipython3",
   "version": "3.8.10"
  }
 },
 "nbformat": 4,
 "nbformat_minor": 5
}
