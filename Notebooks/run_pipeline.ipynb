{
 "cells": [
  {
   "cell_type": "code",
   "execution_count": 8,
   "id": "810161b5",
   "metadata": {},
   "outputs": [],
   "source": [
    "# !jupyter nbextension enable code_prettify/code_prettify"
   ]
  },
  {
   "cell_type": "code",
   "execution_count": 9,
   "id": "dfb64c31",
   "metadata": {},
   "outputs": [],
   "source": [
    "import os\n",
    "#set proxy\n",
    "\n",
    "os.environ['HTTP_PROXY'] = 'http://fp.cs.ovgu.de:3210/'\n",
    "os.environ['HTTPS_PROXY'] = 'http://fp.cs.ovgu.de:3210/'"
   ]
  },
  {
   "cell_type": "code",
   "execution_count": 10,
   "id": "08b8d770",
   "metadata": {},
   "outputs": [],
   "source": [
    "# pip install yapf"
   ]
  },
  {
   "cell_type": "code",
   "execution_count": 11,
   "id": "d5a5f169",
   "metadata": {},
   "outputs": [],
   "source": [
    "# import preprocess.py\n",
    "# import cam.py\n",
    "# import perturb.py\n",
    "# import metrics.py\n",
    "\n",
    "import datetime"
   ]
  },
  {
   "cell_type": "code",
   "execution_count": 12,
   "id": "74c2928b",
   "metadata": {},
   "outputs": [],
   "source": [
    "# 1. generate and save ground truth saliency map\n",
    "# 2. save a version over the image\n",
    "def inference(model, saliency_method_fn):\n",
    "    gpu_reference_tensor = next(model.parameters())\n",
    "    tensor = tensor.type_as(gpu_reference_tensor)\n",
    "    target_layer = model.layer4[1].conv2\n",
    "    wrapped_model = saliency_method_fn(torch_model, target_layer)\n",
    "    cam, idx = wrapped_model(tensor)\n",
    "    fig, ax = plt.subplots()\n",
    "    print(idx)\n",
    "    img = reverse_normalize(tensor)\n",
    "    heatmap = visualize(img, cam)\n",
    "    heatmap = np.transpose(heatmap.squeeze(), (1, 2, 0))\n",
    "    ax.imshow(heatmap, cmap='turbo', alpha = 0.8)\n",
    "    ax.set_title(f\"Class: {classes[idx]}\")\n",
    "    fig.savefig(f\"/project/validating_attribution_techniques/shardul/output/saliency/before_noise/{idx2label[idx]}.jpeg\")\n",
    "    "
   ]
  },
  {
   "cell_type": "code",
   "execution_count": 13,
   "id": "70c50609",
   "metadata": {},
   "outputs": [],
   "source": [
    "def load_model(model_architecture):\n",
    "    use_cuda = True\n",
    "    device = torch.device(\"cuda\" if use_cuda else \"cpu\")\n",
    "    model = torch.hub.load('pytorch/vision:v0.10.0',model_architecture, pretrained=True).to(device)\n",
    "    model.eval()\n",
    "    return model"
   ]
  },
  {
   "cell_type": "code",
   "execution_count": 14,
   "id": "c87e5e89",
   "metadata": {},
   "outputs": [],
   "source": [
    "def run_pipeline(op_dir, sal_method_list, vision_model, perturb_tech):\n",
    "    current_time = datetime.datetime.now()\n",
    "    if not os.path.exists(op_dir + current_time):\n",
    "            os.mkdir(op_dir + current_time)\n",
    "    torch_model = load_model(vision_model)\n",
    "    for method in sal_method_list:\n",
    "        inference(torch_model, method)\n",
    "        printf('inference complete for'+ method)\n",
    "    for technique in perturb_tech:\n",
    "        occu_perturb()\n",
    "        noise_perturb()\n",
    "        # 1. generate and save perturbed image\n",
    "        # 2. save saliency map of the perturbed image    \n",
    "        #loop over the folder to compare the saliency maps of 2 images\n",
    "        #location_based\n",
    "        nss_score = nss(gt_saliency, perturbed_saliency)\n",
    "        #distribution_based\n",
    "        emd_score = emd(gt_saliency, perturbed_saliency)\n",
    "        sim_score = sim(gt_saliency, perturbed_saliency)\n",
    "        print(f'nss =', nss, 'emd =', emd)\n",
    "    return"
   ]
  },
  {
   "cell_type": "code",
   "execution_count": 15,
   "id": "064d4cbd",
   "metadata": {},
   "outputs": [],
   "source": [
    "op_dir = 'commons/experiment/'\n",
    "model_arch = 'resnet50'\n",
    "\n"
   ]
  },
  {
   "cell_type": "code",
   "execution_count": null,
   "id": "cf0826da",
   "metadata": {},
   "outputs": [],
   "source": []
  }
 ],
 "metadata": {
  "kernelspec": {
   "display_name": "Python 3 (ipykernel)",
   "language": "python",
   "name": "python3"
  },
  "language_info": {
   "codemirror_mode": {
    "name": "ipython",
    "version": 3
   },
   "file_extension": ".py",
   "mimetype": "text/x-python",
   "name": "python",
   "nbconvert_exporter": "python",
   "pygments_lexer": "ipython3",
   "version": "3.8.10"
  }
 },
 "nbformat": 4,
 "nbformat_minor": 5
}
