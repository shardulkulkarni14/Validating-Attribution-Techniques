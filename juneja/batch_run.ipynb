{
 "cells": [
  {
   "cell_type": "code",
   "execution_count": null,
   "id": "076f1774",
   "metadata": {},
   "outputs": [],
   "source": [
    "image_data = np.load('/project/validating_attribution_techniques/abid/data/ground_saliency_images/images_1.npy')\n",
    "for i, image in enumerate(image_data):\n",
    "    # Create a new figure for each image\n",
    "    plt.figure()\n",
    "    \n",
    "    # Display the image\n",
    "    plt.imshow(image)\n",
    "    \n",
    "    # Add a title if needed (optional)\n",
    "    plt.title(f'Image {i + 1}')\n",
    "    \n",
    "# Show all the images\n",
    "plt.show()"
   ]
  }
 ],
 "metadata": {
  "kernelspec": {
   "display_name": "Python 3 (ipykernel)",
   "language": "python",
   "name": "python3"
  },
  "language_info": {
   "codemirror_mode": {
    "name": "ipython",
    "version": 3
   },
   "file_extension": ".py",
   "mimetype": "text/x-python",
   "name": "python",
   "nbconvert_exporter": "python",
   "pygments_lexer": "ipython3",
   "version": "3.8.10"
  }
 },
 "nbformat": 4,
 "nbformat_minor": 5
}
