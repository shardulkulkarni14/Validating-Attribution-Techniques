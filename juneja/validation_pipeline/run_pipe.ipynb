{
 "cells": [
  {
   "cell_type": "code",
   "execution_count": 1,
   "id": "2c5ef7d3",
   "metadata": {},
   "outputs": [],
   "source": [
    "#| default_exp run_pipe"
   ]
  },
  {
   "cell_type": "code",
   "execution_count": 2,
   "id": "c12b4a93",
   "metadata": {},
   "outputs": [],
   "source": [
    "#| export\n",
    "\n",
    "import torch\n",
    "\n",
    "def load_model(model_arc):\n",
    "    use_cuda = True\n",
    "    device = torch.device(\"cuda\" if use_cuda else \"cpu\")\n",
    "    model = torch.hub.load('pytorch/vision:v0.10.0',model_arc, pretrained=True).to(device)\n",
    "    model.eval()\n",
    "    return model"
   ]
  },
  {
   "cell_type": "code",
   "execution_count": 3,
   "id": "5a292e77",
   "metadata": {},
   "outputs": [
    {
     "name": "stderr",
     "output_type": "stream",
     "text": [
      "2023-10-22 15:32:53.540891: I tensorflow/core/platform/cpu_feature_guard.cc:193] This TensorFlow binary is optimized with oneAPI Deep Neural Network Library (oneDNN) to use the following CPU instructions in performance-critical operations:  AVX2 AVX512F FMA\n",
      "To enable them in other operations, rebuild TensorFlow with the appropriate compiler flags.\n",
      "2023-10-22 15:32:54.672621: W tensorflow/compiler/xla/stream_executor/platform/default/dso_loader.cc:64] Could not load dynamic library 'libnvinfer.so.7'; dlerror: libnvinfer.so.7: cannot open shared object file: No such file or directory; LD_LIBRARY_PATH: /usr/local/cuda-11.3/lib64:/scratch/juneja/python/lib:/usr/local/cuda-11.3/tensorRT-8.0/lib64:/usr/local/cuda-11.3/cudnn-8.2/lib64:/usr/local/cuda-11.3/nccl-2.9/lib64\n",
      "2023-10-22 15:32:54.672747: W tensorflow/compiler/xla/stream_executor/platform/default/dso_loader.cc:64] Could not load dynamic library 'libnvinfer_plugin.so.7'; dlerror: libnvinfer_plugin.so.7: cannot open shared object file: No such file or directory; LD_LIBRARY_PATH: /usr/local/cuda-11.3/lib64:/scratch/juneja/python/lib:/usr/local/cuda-11.3/tensorRT-8.0/lib64:/usr/local/cuda-11.3/cudnn-8.2/lib64:/usr/local/cuda-11.3/nccl-2.9/lib64\n",
      "2023-10-22 15:32:54.672758: W tensorflow/compiler/tf2tensorrt/utils/py_utils.cc:38] TF-TRT Warning: Cannot dlopen some TensorRT libraries. If you would like to use Nvidia GPU with TensorRT, please make sure the missing libraries mentioned above are installed properly.\n"
     ]
    }
   ],
   "source": [
    "#| export\n",
    "\n",
    "import datetime\n",
    "import os\n",
    "import preprocess\n",
    "from perturb_input import occu_perturb, noise_perturb\n",
    "from inference import generate_saliency\n",
    "from metrics import NSS, SIM, CC\n",
    "from cv2 import EMD\n",
    "import numpy as np\n",
    "    \n",
    "\n",
    "#run a test on 100 random images from imagenet tiny\n",
    "#img_name = image_num + class\n",
    "\n",
    "# def run_pipe(img_path, model_arc, out_dir, sal_method_list, per_tech_list):\n",
    "\n",
    "def run_pipe(img_arr, img_name, model_arc, out_dir, sal_method_list, per_tech_list):\n",
    "    \n",
    "    #experiments\n",
    "    now = datetime.datetime.now()\n",
    "    out_dir = out_dir+str(now).replace(\" \", \"-\")+'/'+img_name\n",
    "    \n",
    "    if not os.path.exists(out_dir):\n",
    "        os.makedirs(out_dir, exist_ok=True)\n",
    "        print('Results will be avialable at', out_dir)\n",
    "            \n",
    "    torch_model = load_model(model_arc)\n",
    "    print(sal_method_list)\n",
    "    \n",
    "    for sal_method in sal_method_list:\n",
    "        \n",
    "        #save results after inference\n",
    "        inf_out_path = out_dir+'/'+sal_method+'/ground_truth_saliency'\n",
    "        if not os.path.exists(inf_out_path):\n",
    "            os.makedirs(inf_out_path, exist_ok=True)\n",
    "            \n",
    "        inf_img_name = 'ground_truth_saliency'\n",
    "#       gt_saliency_map, heatmap = generate_saliency(img_path, torch_model, inf_out_path, inf_img_name, sal_method)\n",
    "        gt_saliency_map, heatmap = generate_saliency(img_arr, torch_model, sal_method)\n",
    "        np.save(f\"{inf_out_path}.npy\", heatmap)\n",
    "        del heatmap\n",
    "        \n",
    "        for per_tech in per_tech_list:\n",
    "            \n",
    "            per_out_path = out_dir+'/'+per_tech\n",
    "            if not os.path.exists(per_out_path):\n",
    "                os.makedirs(per_out_path, exist_ok=True)\n",
    "#           eval(per_tech)(img_path, per_out_path, gt_saliency_map)\n",
    "            perturbed_arr = eval(per_tech)(img_arr, gt_saliency_map)\n",
    "            \n",
    "            np.save(f\"{per_out_path}/{per_tech}.npy\",perturbed_arr)\n",
    "        \n",
    "            inf_out_path = out_dir+'/'+sal_method+'/'+per_tech+'_saliency'        \n",
    "            if not os.path.exists(inf_out_path):\n",
    "                os.makedirs(inf_out_path, exist_ok=True)\n",
    "            iter = 0\n",
    "            perturbed_heatmap = []\n",
    "            for iter in range(0, 15):\n",
    "#                 generate_saliency(per_out_path+'/'+str(iter)+'_noise.jpeg', torch_model, inf_out_path, sal_method)\n",
    "                inf_img_name = sal_method+'_saliency_'+str(iter)\n",
    "#                 perturbed_saliency_map, heatmap = generate_saliency(per_out_path+'/'+'occluded_img_'+str(iter)+'.jpg', torch_model, inf_out_path, inf_img_name, sal_method)\n",
    "                perturbed_saliency_map, heatmap = generate_saliency(perturbed_arr[iter], torch_model, sal_method)\n",
    "                perturbed_heatmap.append(np.array(heatmap))\n",
    "#                 print('Normalized saliency score: ', NSS(gt_saliency_map, perturbed_saliency_map))\n",
    "#                 print('Similarity score: ', SIM(gt_saliency_map, perturbed_saliency_map))\n",
    "#                 print('Pearson correlation coefficient: ', CC(gt_saliency_map, perturbed_saliency_map))\n",
    "#                 emd = EMD(np.reshape(gt_saliency_map.numpy(),(300,300)), np.reshape(perturbed_saliency_map.numpy(),(300,300)), 1)\n",
    "#                 print('EMD: ', emd )\n",
    "                iter += 1\n",
    "#             print(perturbed_heatmap)\n",
    "#             per_hm_arr = np.asarray(perturbed_heatmap, dtype=\"object\")\n",
    "            np.save(f\"{inf_out_path}.npy\", perturbed_heatmap)\n",
    "            del perturbed_arr\n",
    "            del perturbed_heatmap\n",
    "    return"
   ]
  },
  {
   "cell_type": "code",
   "execution_count": 4,
   "id": "03b724fd",
   "metadata": {},
   "outputs": [],
   "source": [
    "#| hide\n",
    "\n",
    "# run_pipe('/project/validating_attribution_techniques/commons/examples/input.png', \n",
    "#          'resnet50','./run/', ['ScoreCAM'],['occu_perturb'])"
   ]
  },
  {
   "cell_type": "code",
   "execution_count": 5,
   "id": "ad4b3858",
   "metadata": {},
   "outputs": [],
   "source": [
    "#| hide\n",
    "from nbdev.export import nb_export\n",
    "nb_export('run_pipe.ipynb', './')"
   ]
  }
 ],
 "metadata": {
  "kernelspec": {
   "display_name": "Python 3 (ipykernel)",
   "language": "python",
   "name": "python3"
  },
  "language_info": {
   "codemirror_mode": {
    "name": "ipython",
    "version": 3
   },
   "file_extension": ".py",
   "mimetype": "text/x-python",
   "name": "python",
   "nbconvert_exporter": "python",
   "pygments_lexer": "ipython3",
   "version": "3.8.10"
  }
 },
 "nbformat": 4,
 "nbformat_minor": 5
}
