{
 "cells": [
  {
   "cell_type": "code",
   "execution_count": 1,
   "id": "c74103b0",
   "metadata": {},
   "outputs": [],
   "source": [
    "# import os\n",
    "# os.environ[\"CUDA_DEVICE_ORDER\"]=\"PCI_BUS_ID\"\n",
    "# os.environ[\"CUDA_VISIBLE_DEVICES\"]=\"1\""
   ]
  },
  {
   "cell_type": "code",
   "execution_count": 2,
   "id": "b7d0aca8",
   "metadata": {},
   "outputs": [],
   "source": [
    "import os\n",
    "\n",
    "def set_to_our_gpus(gpu_str):\n",
    "    os.environ['CUDA_VISIBLE_DEVICES'] = gpu_str\n",
    "\n",
    "# %% ../../abid/utils.ipynb 3\n",
    "def print_gpu_used_torch():\n",
    "    ngpu = torch.cuda.device_count()\n",
    "    for gpu_id in range(ngpu):\n",
    "        gpu = torch.cuda.get_device_name(gpu_id)\n",
    "        print(f\"GPU:{gpu_id} {gpu}\")\n",
    "\n",
    "# %% ../../abid/utils.ipynb 4\n",
    "def enable_web_access():\n",
    "    os.environ['HTTP_PROXY'] = 'http://fp.cs.ovgu.de:3210/'\n",
    "    os.environ['HTTPS_PROXY'] = 'http://fp.cs.ovgu.de:3210/'\n",
    "    \n",
    "set_to_our_gpus(\"3\")\n",
    "enable_web_access()"
   ]
  },
  {
   "cell_type": "code",
   "execution_count": 3,
   "id": "3446487f",
   "metadata": {},
   "outputs": [
    {
     "name": "stderr",
     "output_type": "stream",
     "text": [
      "2023-10-22 18:09:28.098105: I tensorflow/core/platform/cpu_feature_guard.cc:193] This TensorFlow binary is optimized with oneAPI Deep Neural Network Library (oneDNN) to use the following CPU instructions in performance-critical operations:  AVX2 AVX512F FMA\n",
      "To enable them in other operations, rebuild TensorFlow with the appropriate compiler flags.\n",
      "2023-10-22 18:09:32.124393: W tensorflow/compiler/xla/stream_executor/platform/default/dso_loader.cc:64] Could not load dynamic library 'libnvinfer.so.7'; dlerror: libnvinfer.so.7: cannot open shared object file: No such file or directory; LD_LIBRARY_PATH: /usr/local/cuda-11.3/lib64:/scratch/juneja/python/lib:/usr/local/cuda-11.3/tensorRT-8.0/lib64:/usr/local/cuda-11.3/cudnn-8.2/lib64:/usr/local/cuda-11.3/nccl-2.9/lib64\n",
      "2023-10-22 18:09:32.124719: W tensorflow/compiler/xla/stream_executor/platform/default/dso_loader.cc:64] Could not load dynamic library 'libnvinfer_plugin.so.7'; dlerror: libnvinfer_plugin.so.7: cannot open shared object file: No such file or directory; LD_LIBRARY_PATH: /usr/local/cuda-11.3/lib64:/scratch/juneja/python/lib:/usr/local/cuda-11.3/tensorRT-8.0/lib64:/usr/local/cuda-11.3/cudnn-8.2/lib64:/usr/local/cuda-11.3/nccl-2.9/lib64\n",
      "2023-10-22 18:09:32.124751: W tensorflow/compiler/tf2tensorrt/utils/py_utils.cc:38] TF-TRT Warning: Cannot dlopen some TensorRT libraries. If you would like to use Nvidia GPU with TensorRT, please make sure the missing libraries mentioned above are installed properly.\n"
     ]
    },
    {
     "name": "stdout",
     "output_type": "stream",
     "text": [
      "Results will be avialable at ./run/2023-10-22-18:09:38.713301/img_\n"
     ]
    },
    {
     "name": "stderr",
     "output_type": "stream",
     "text": [
      "Using cache found in /home/juneja/.cache/torch/hub/pytorch_vision_v0.10.0\n",
      "/scratch/juneja/python/lib/python3.8/site-packages/torchvision/models/_utils.py:208: UserWarning: The parameter 'pretrained' is deprecated since 0.13 and will be removed in 0.15, please use 'weights' instead.\n",
      "  warnings.warn(\n",
      "/scratch/juneja/python/lib/python3.8/site-packages/torchvision/models/_utils.py:223: UserWarning: Arguments other than a weight enum or `None` for 'weights' are deprecated since 0.13 and will be removed in 0.15. The current behavior is equivalent to passing `weights=ResNet50_Weights.IMAGENET1K_V1`. You can also use `weights=ResNet50_Weights.DEFAULT` to get the most up-to-date weights.\n",
      "  warnings.warn(msg)\n"
     ]
    },
    {
     "name": "stdout",
     "output_type": "stream",
     "text": [
      "['GradCAM', 'ScoreCAM']\n",
      "GPU:0 NVIDIA GeForce RTX 2080 Ti\n"
     ]
    },
    {
     "name": "stderr",
     "output_type": "stream",
     "text": [
      "/scratch/juneja/python/lib/python3.8/site-packages/torch/nn/modules/module.py:1053: UserWarning: Using a non-full backward hook when the forward contains multiple autograd Nodes is deprecated and will be removed in future versions. This hook will be missing some grad_input. Please use register_full_backward_hook to get the documented behavior.\n",
      "  warnings.warn(\"Using a non-full backward hook when the forward contains multiple autograd Nodes \"\n"
     ]
    },
    {
     "name": "stdout",
     "output_type": "stream",
     "text": [
      "predicted class ids 956\t probability 0.9792814254760742\n",
      "956\n",
      "GPU:0 NVIDIA GeForce RTX 2080 Ti\n",
      "predicted class ids 956\t probability 0.9822208285331726\n",
      "956\n",
      "GPU:0 NVIDIA GeForce RTX 2080 Ti\n",
      "predicted class ids 956\t probability 0.9612938761711121\n",
      "956\n",
      "GPU:0 NVIDIA GeForce RTX 2080 Ti\n",
      "predicted class ids 956\t probability 0.9687935709953308\n",
      "956\n",
      "GPU:0 NVIDIA GeForce RTX 2080 Ti\n",
      "predicted class ids 956\t probability 0.9797096252441406\n",
      "956\n",
      "GPU:0 NVIDIA GeForce RTX 2080 Ti\n",
      "predicted class ids 956\t probability 0.9799160957336426\n",
      "956\n",
      "GPU:0 NVIDIA GeForce RTX 2080 Ti\n",
      "predicted class ids 956\t probability 0.9741981625556946\n",
      "956\n",
      "GPU:0 NVIDIA GeForce RTX 2080 Ti\n",
      "predicted class ids 956\t probability 0.9563517570495605\n",
      "956\n",
      "GPU:0 NVIDIA GeForce RTX 2080 Ti\n",
      "predicted class ids 956\t probability 0.9828110933303833\n",
      "956\n",
      "GPU:0 NVIDIA GeForce RTX 2080 Ti\n",
      "predicted class ids 956\t probability 0.9883509874343872\n",
      "956\n",
      "GPU:0 NVIDIA GeForce RTX 2080 Ti\n",
      "predicted class ids 956\t probability 0.9805357456207275\n",
      "956\n",
      "GPU:0 NVIDIA GeForce RTX 2080 Ti\n",
      "predicted class ids 956\t probability 0.9333784580230713\n",
      "956\n",
      "GPU:0 NVIDIA GeForce RTX 2080 Ti\n",
      "predicted class ids 956\t probability 0.969200074672699\n",
      "956\n",
      "GPU:0 NVIDIA GeForce RTX 2080 Ti\n",
      "predicted class ids 956\t probability 0.99498051404953\n",
      "956\n",
      "GPU:0 NVIDIA GeForce RTX 2080 Ti\n",
      "predicted class ids 956\t probability 0.9826205372810364\n",
      "956\n",
      "GPU:0 NVIDIA GeForce RTX 2080 Ti\n",
      "predicted class ids 956\t probability 0.9811087250709534\n",
      "956\n",
      "GPU:0 NVIDIA GeForce RTX 2080 Ti\n",
      "956\n",
      "GPU:0 NVIDIA GeForce RTX 2080 Ti\n",
      "956\n",
      "GPU:0 NVIDIA GeForce RTX 2080 Ti\n",
      "956\n",
      "GPU:0 NVIDIA GeForce RTX 2080 Ti\n",
      "956\n",
      "GPU:0 NVIDIA GeForce RTX 2080 Ti\n",
      "956\n",
      "GPU:0 NVIDIA GeForce RTX 2080 Ti\n",
      "956\n",
      "GPU:0 NVIDIA GeForce RTX 2080 Ti\n",
      "956\n",
      "GPU:0 NVIDIA GeForce RTX 2080 Ti\n",
      "956\n",
      "GPU:0 NVIDIA GeForce RTX 2080 Ti\n",
      "956\n",
      "GPU:0 NVIDIA GeForce RTX 2080 Ti\n",
      "956\n",
      "GPU:0 NVIDIA GeForce RTX 2080 Ti\n",
      "956\n",
      "GPU:0 NVIDIA GeForce RTX 2080 Ti\n",
      "956\n",
      "GPU:0 NVIDIA GeForce RTX 2080 Ti\n",
      "956\n",
      "GPU:0 NVIDIA GeForce RTX 2080 Ti\n",
      "956\n",
      "GPU:0 NVIDIA GeForce RTX 2080 Ti\n",
      "956\n",
      "GPU:0 NVIDIA GeForce RTX 2080 Ti\n",
      "956\n"
     ]
    }
   ],
   "source": [
    "#import images as numpy arrays\n",
    "\n",
    "\n",
    "import numpy as np\n",
    "from matplotlib import pyplot as plt\n",
    "from run_pipe import run_pipe\n",
    "\n",
    "import skimage\n",
    "from skimage.transform import resize\n",
    "\n",
    "image_data = np.load('/project/validating_attribution_techniques/abid/data/ground_saliency_images/images_1.npy')\n",
    "\n",
    "# for i, image in enumerate(image_data):\n",
    "img_arr = resize(image_data[0], (300,300))\n",
    "img_name = 'img_'\n",
    "# img_name = 'img_'+str(i)\n",
    "\n",
    "run_pipe(img_arr, img_name, 'resnet50', './run/', ['GradCAM', 'ScoreCAM'], ['occu_perturb'])\n"
   ]
  },
  {
   "cell_type": "code",
   "execution_count": 4,
   "id": "a425487f",
   "metadata": {},
   "outputs": [],
   "source": [
    "# run_pipe('/project/validating_attribution_techniques/commons/examples/input.png', \n",
    "#          'resnet50','./run/', ['ScoreCAM'],['occu_perturb'])"
   ]
  },
  {
   "cell_type": "code",
   "execution_count": 5,
   "id": "2d3374da",
   "metadata": {},
   "outputs": [],
   "source": [
    "# step 1: #make a preprocess for numpy images\n",
    "# step 2: #run the saliency pipeline on the preprocessed image\n",
    "#     #for every 20 figures\n",
    "# step 3: #save the normal and the salient figure side by side\n",
    "    \n",
    "# #and a preprocess for gui : loading image from img_path"
   ]
  },
  {
   "cell_type": "code",
   "execution_count": 6,
   "id": "a2c2b8b2",
   "metadata": {},
   "outputs": [
    {
     "name": "stdout",
     "output_type": "stream",
     "text": [
      "Sun Oct 22 18:10:05 2023       \r\n",
      "+---------------------------------------------------------------------------------------+\r\n",
      "| NVIDIA-SMI 535.86.10              Driver Version: 535.86.10    CUDA Version: 12.2     |\r\n",
      "|-----------------------------------------+----------------------+----------------------+\r\n",
      "| GPU  Name                 Persistence-M | Bus-Id        Disp.A | Volatile Uncorr. ECC |\r\n",
      "| Fan  Temp   Perf          Pwr:Usage/Cap |         Memory-Usage | GPU-Util  Compute M. |\r\n",
      "|                                         |                      |               MIG M. |\r\n",
      "|=========================================+======================+======================|\r\n",
      "|   0  NVIDIA GeForce RTX 2080 Ti     Off | 00000000:B1:00.0 Off |                  N/A |\r\n",
      "| 30%   53C    P2              77W / 250W |   1291MiB / 11264MiB |     35%      Default |\r\n",
      "|                                         |                      |                  N/A |\r\n",
      "+-----------------------------------------+----------------------+----------------------+\r\n",
      "|   1  NVIDIA GeForce RTX 2080 Ti     Off | 00000000:B2:00.0 Off |                  N/A |\r\n",
      "| 22%   25C    P8               1W / 250W |      3MiB / 11264MiB |      0%      Default |\r\n",
      "|                                         |                      |                  N/A |\r\n",
      "+-----------------------------------------+----------------------+----------------------+\r\n",
      "|   2  NVIDIA GeForce RTX 2080 Ti     Off | 00000000:DA:00.0 Off |                  N/A |\r\n",
      "| 22%   23C    P8              17W / 250W |      3MiB / 11264MiB |      0%      Default |\r\n",
      "|                                         |                      |                  N/A |\r\n",
      "+-----------------------------------------+----------------------+----------------------+\r\n",
      "|   3  NVIDIA GeForce RTX 2080 Ti     Off | 00000000:DB:00.0 Off |                  N/A |\r\n",
      "| 23%   38C    P2              98W / 250W |   4773MiB / 11264MiB |     87%      Default |\r\n",
      "|                                         |                      |                  N/A |\r\n",
      "+-----------------------------------------+----------------------+----------------------+\r\n",
      "                                                                                         \r\n",
      "+---------------------------------------------------------------------------------------+\r\n",
      "| Processes:                                                                            |\r\n",
      "|  GPU   GI   CI        PID   Type   Process name                            GPU Memory |\r\n",
      "|        ID   ID                                                             Usage      |\r\n",
      "|=======================================================================================|\r\n",
      "+---------------------------------------------------------------------------------------+\r\n"
     ]
    }
   ],
   "source": [
    "!nvidia-smi"
   ]
  },
  {
   "cell_type": "code",
   "execution_count": null,
   "id": "449e2c5f",
   "metadata": {},
   "outputs": [],
   "source": []
  }
 ],
 "metadata": {
  "kernelspec": {
   "display_name": "Python 3 (ipykernel)",
   "language": "python",
   "name": "python3"
  },
  "language_info": {
   "codemirror_mode": {
    "name": "ipython",
    "version": 3
   },
   "file_extension": ".py",
   "mimetype": "text/x-python",
   "name": "python",
   "nbconvert_exporter": "python",
   "pygments_lexer": "ipython3",
   "version": "3.8.10"
  }
 },
 "nbformat": 4,
 "nbformat_minor": 5
}
