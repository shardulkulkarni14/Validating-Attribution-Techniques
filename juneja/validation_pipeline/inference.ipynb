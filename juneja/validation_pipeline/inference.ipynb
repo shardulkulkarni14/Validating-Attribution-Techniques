{
 "cells": [
  {
   "cell_type": "code",
   "execution_count": 1,
   "id": "2c3d24f0",
   "metadata": {},
   "outputs": [],
   "source": [
    "#| default_exp inference"
   ]
  },
  {
   "cell_type": "code",
   "execution_count": 2,
   "id": "e4e767b4",
   "metadata": {},
   "outputs": [],
   "source": [
    "#| export\n",
    "\n",
    "from cam import CAM, GradCAM, GradCAMpp, SmoothGradCAMpp, ScoreCAM\n",
    "from utils.visualize import visualize, reverse_normalize\n",
    "from utils.imagenet_labels import label2idx, idx2label\n",
    "from matplotlib import pyplot as plt\n",
    "import numpy as np\n",
    "import preprocess\n",
    "import os\n",
    "\n",
    "import torch\n",
    "\n",
    "# def generate_saliency(img_path, model, out_dir, inf_img_name, sal_method):\n",
    "def generate_saliency(img_arr, model, sal_method):\n",
    "#name of sal_method must be same as the function\n",
    "    \n",
    "#     img_tensor = preprocess.img_to_tensor(img_path)\n",
    "    ngpu = torch.cuda.current_device()\n",
    "    for gpu_id in range(ngpu):\n",
    "        gpu = torch.cuda.get_device_name(gpu_id)\n",
    "        print(f\"GPU:{gpu_id} {gpu}\")\n",
    "    \n",
    "    img_tensor = preprocess.img_to_tensor(img_arr)\n",
    "    \n",
    "    gpu_reference_tensor = next(model.parameters())    \n",
    "    img_tensor = img_tensor.type_as(gpu_reference_tensor)\n",
    "    target_layer = model.layer4[1].conv2\n",
    "    wrapped_model = eval(sal_method)(model, target_layer)\n",
    "    cam, idx = wrapped_model(img_tensor)\n",
    "    \n",
    "    \n",
    "    if sal_method in ['GradCAM', 'GradCAMpp', 'SmoothGradCAMpp']:\n",
    "        cam = cam.cpu()\n",
    "    \n",
    "#     fig, ax = plt.subplots()\n",
    "    print(idx)\n",
    "    img = reverse_normalize(img_tensor)\n",
    "    heatmap = visualize(img, cam)\n",
    "    heatmap = np.transpose(heatmap.squeeze(), (1, 2, 0))\n",
    "    \n",
    "#     ax.imshow(heatmap, cmap='turbo', alpha = 0.8)\n",
    "    \n",
    "    classes = open(\"/project/validating_attribution_techniques/shardul/classes.txt\").read().splitlines()\n",
    "#   ax.set_title(f\"Class: {classes[idx]}\")\n",
    "#     plt.axis('off')\n",
    "    \n",
    "#     if not os.path.exists(out_dir):\n",
    "#         os.makedirs(out_dir, exist_ok=True)\n",
    "#     fig.savefig(f\"{out_dir}/{inf_img_name+'-'+idx2label[idx].replace(' ','-')}.jpeg\")\n",
    "#     np.save(f\"{out_dir}/{inf_img_name+'-'+idx2label[idx].replace(' ','-')}.npy\", heatmap)\n",
    "        \n",
    "    return cam, heatmap"
   ]
  },
  {
   "cell_type": "code",
   "execution_count": 3,
   "id": "f229a074",
   "metadata": {},
   "outputs": [],
   "source": [
    "#| hide\n",
    "from nbdev.export import nb_export\n",
    "nb_export('inference.ipynb', './')"
   ]
  }
 ],
 "metadata": {
  "kernelspec": {
   "display_name": "Python 3 (ipykernel)",
   "language": "python",
   "name": "python3"
  },
  "language_info": {
   "codemirror_mode": {
    "name": "ipython",
    "version": 3
   },
   "file_extension": ".py",
   "mimetype": "text/x-python",
   "name": "python",
   "nbconvert_exporter": "python",
   "pygments_lexer": "ipython3",
   "version": "3.8.10"
  }
 },
 "nbformat": 4,
 "nbformat_minor": 5
}
