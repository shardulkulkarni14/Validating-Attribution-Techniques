{
 "cells": [
  {
   "cell_type": "code",
   "execution_count": 1,
   "id": "2446db45",
   "metadata": {},
   "outputs": [],
   "source": [
    "#| default_exp preprocess"
   ]
  },
  {
   "cell_type": "code",
   "execution_count": 2,
   "id": "84afc10a",
   "metadata": {},
   "outputs": [],
   "source": [
    "#| export\n",
    "import torch\n",
    "from torchvision import transforms\n",
    "from PIL import Image"
   ]
  },
  {
   "cell_type": "code",
   "execution_count": 3,
   "id": "fcf0163b",
   "metadata": {},
   "outputs": [],
   "source": [
    "#| export\n",
    "# def img_to_tensor(img_path):\n",
    "\n",
    "def img_to_tensor(img_arr):\n",
    "#     image = Image.open(img_path)\n",
    "#     size = (300, 300)\n",
    "#     print(type(image))\n",
    "#     image = image.resize(size)\n",
    "    \n",
    "    #mean and std from ImageNet\n",
    "    normalize = transforms.Normalize(\n",
    "        mean=[0.485, 0.456, 0.406],\n",
    "        std=[0.229, 0.224, 0.225]\n",
    "        )\n",
    "    preprocess = transforms.Compose([\n",
    "        transforms.ToTensor(),\n",
    "        normalize\n",
    "        ])\n",
    "    tensor = preprocess(img_arr)\n",
    "    # reshape 4D tensor (N, C, H, W)\n",
    "    tensor = tensor.unsqueeze(0)\n",
    "    return tensor"
   ]
  },
  {
   "cell_type": "code",
   "execution_count": 4,
   "id": "bd88d5df",
   "metadata": {},
   "outputs": [],
   "source": [
    "#| hide\n",
    "from nbdev.export import nb_export\n",
    "nb_export('preprocess.ipynb', './') # arg1 : name of notebook, arg2 : location of the export relative to the current directory"
   ]
  }
 ],
 "metadata": {
  "kernelspec": {
   "display_name": "Python 3 (ipykernel)",
   "language": "python",
   "name": "python3"
  },
  "language_info": {
   "codemirror_mode": {
    "name": "ipython",
    "version": 3
   },
   "file_extension": ".py",
   "mimetype": "text/x-python",
   "name": "python",
   "nbconvert_exporter": "python",
   "pygments_lexer": "ipython3",
   "version": "3.8.10"
  }
 },
 "nbformat": 4,
 "nbformat_minor": 5
}
