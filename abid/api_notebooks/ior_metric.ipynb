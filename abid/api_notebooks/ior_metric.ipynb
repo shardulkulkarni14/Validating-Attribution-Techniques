{
 "cells": [
  {
   "cell_type": "code",
   "execution_count": 1,
   "id": "6d233713",
   "metadata": {},
   "outputs": [],
   "source": [
    "#| default_exp ior"
   ]
  },
  {
   "cell_type": "code",
   "execution_count": 2,
   "id": "71f60dae",
   "metadata": {},
   "outputs": [],
   "source": [
    "#| export\n",
    "import numpy as np\n",
    "from PIL import Image"
   ]
  },
  {
   "cell_type": "code",
   "execution_count": 3,
   "id": "2281a3f1",
   "metadata": {},
   "outputs": [],
   "source": [
    "#| export\n",
    "def insalient_outsalient_ratio_defunc(reference, comparative, object_mask):\n",
    "    assert(reference.shape == comparative.shape)\n",
    "#     ref_tmp = Image.fromarray(reference.squeeze()).resize(comparative.shape)\n",
    "#     ref = np.array(ref_tmp)\n",
    "\n",
    "    agreement = reference * comparative\n",
    "#     plt.imshow(inter_model_saliency)\n",
    "\n",
    "    insalient_agreement = (agreement * object_mask)\n",
    "    insalient_agreement_norm = np.exp(insalient_agreement) / np.exp(insalient_agreement.max())\n",
    "    insalient_agreement_norm = np.where(insalient_agreement_norm >= 0.9, 1, insalient_agreement_norm)\n",
    "\n",
    "    reference_in_distribution = reference * object_mask\n",
    "    reference_in_distribution = reference_in_distribution / reference_in_distribution.sum()\n",
    "\n",
    "    insalient = np.sum(insalient_agreement_norm * reference_in_distribution)\n",
    "    insalient = np.log(insalient)\n",
    "\n",
    "    outsalient_agreement = (agreement * np.logical_not(object_mask).astype(float))\n",
    "    outsalient_agreement_norm = np.exp(outsalient_agreement) / np.exp(outsalient_agreement.max())\n",
    "    outsalient_agreement_norm = np.where(outsalient_agreement_norm >= 0.9, 1, outsalient_agreement_norm)\n",
    "\n",
    "    reference_out_distribution = reference * np.logical_not(object_mask).astype(float)\n",
    "    reference_out_distribution = reference_out_distribution / reference_out_distribution.sum()\n",
    "\n",
    "    outsalient = np.sum(outsalient_agreement_norm * reference_out_distribution)\n",
    "    outsalient = np.log(outsalient)\n",
    "\n",
    "    return insalient / (insalient + outsalient)"
   ]
  },
  {
   "cell_type": "code",
   "execution_count": 6,
   "id": "0db9b555",
   "metadata": {},
   "outputs": [],
   "source": [
    "#| export\n",
    "def insalient_outsalient_ratio_v2(reference, comparative, object_mask):\n",
    "    \"\"\"\n",
    "    Calculated IOR metric based on the reference and comparative saliency maps,\n",
    "    and in lieu of the mask of the object\n",
    "    \n",
    "    input :\n",
    "      - reference : ndarray (Reference saliency map as the focus of the metric)\n",
    "      - comparative : ndarray (Comparative to compare the reference saliency map to)\n",
    "      - object_mask : ndarray (Binary mask with 1 in the region within the object and 0 elsewhere)\n",
    "      \n",
    "    return :\n",
    "      - ior : ndarray (Final score of the IOR metric)\n",
    "    \"\"\"\n",
    "    assert(reference.shape == comparative.shape)\n",
    "    agreement = reference * comparative\n",
    "\n",
    "    epsilon = 1e-8\n",
    "    insalient_agreement = (agreement * object_mask) + epsilon\n",
    "    \n",
    "    reference_distribution = reference + epsilon\n",
    "    reference_distribution = reference_distribution / reference_distribution.sum()\n",
    "    \n",
    "    reference_in_distribution = (reference_distribution * object_mask)\n",
    "\n",
    "    # Expect in-saliency agreement to be in the same place. Also the value that is concentrated in the reference must be the one with greatest agreement as well.\n",
    "    insalient = np.sum(insalient_agreement * reference_in_distribution)\n",
    "\n",
    "    # expect the saliency outside mask to be spurious and spread out and therefore, not coincide with each other in both saliencies\n",
    "    outsalient_agreement = (reference * np.logical_not(object_mask).astype(float)) + epsilon\n",
    "    \n",
    "    reference_out_distribution = reference_distribution * np.logical_not(object_mask).astype(float)\n",
    "\n",
    "    # out-salient distribution must also not have large values\n",
    "    outsalient = np.sum(outsalient_agreement * reference_out_distribution)\n",
    "\n",
    "    return insalient/ (outsalient + insalient)"
   ]
  },
  {
   "cell_type": "code",
   "execution_count": 1,
   "id": "5afdf961",
   "metadata": {},
   "outputs": [],
   "source": [
    "#| hide\n",
    "from nbdev.export import nb_export\n",
    "nb_export('ior_metric.ipynb', '../../commons/api/metric')"
   ]
  }
 ],
 "metadata": {
  "kernelspec": {
   "display_name": "Python 3 (ipykernel)",
   "language": "python",
   "name": "python3"
  },
  "language_info": {
   "codemirror_mode": {
    "name": "ipython",
    "version": 3
   },
   "file_extension": ".py",
   "mimetype": "text/x-python",
   "name": "python",
   "nbconvert_exporter": "python",
   "pygments_lexer": "ipython3",
   "version": "3.8.10"
  }
 },
 "nbformat": 4,
 "nbformat_minor": 5
}
