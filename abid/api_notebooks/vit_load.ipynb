{
 "cells": [
  {
   "cell_type": "code",
   "execution_count": 7,
   "id": "13620924",
   "metadata": {},
   "outputs": [],
   "source": [
    "#| default_exp vit"
   ]
  },
  {
   "cell_type": "code",
   "execution_count": 8,
   "id": "26d0b502",
   "metadata": {},
   "outputs": [],
   "source": [
    "#| export\n",
    "import torch"
   ]
  },
  {
   "cell_type": "code",
   "execution_count": 11,
   "id": "1ca0ad9b",
   "metadata": {},
   "outputs": [],
   "source": [
    "#| export\n",
    "def load_vit(use_cuda=True):\n",
    "    \"\"\"\n",
    "    Loads DeiT tiny distilled model which accepts image size of 224 x 224\n",
    "    \n",
    "    input :\n",
    "      - use_cuda : bool (Optional boolean indicating the main processor being used, either cuda or cpu)\n",
    "      \n",
    "    return :\n",
    "      - vit_distilled_model : function (DeiT tiny model)\n",
    "    \"\"\"\n",
    "    device = torch.device(\"cuda\" if use_cuda else \"cpu\")\n",
    "    vit_distilled_model = torch.hub.load('facebookresearch/deit:main', \"deit_tiny_distilled_patch16_224\", pretrained=True).to(device)\n",
    "    vit_distilled_model.eval()\n",
    "    return vit_distilled_model"
   ]
  },
  {
   "cell_type": "code",
   "execution_count": 12,
   "id": "0e111255",
   "metadata": {},
   "outputs": [
    {
     "name": "stderr",
     "output_type": "stream",
     "text": [
      "Using cache found in /home/hashimi/.cache/torch/hub/facebookresearch_deit_main\n"
     ]
    }
   ],
   "source": [
    "#| hide\n",
    "vit = load_vit()"
   ]
  },
  {
   "cell_type": "code",
   "execution_count": 1,
   "id": "3854b707",
   "metadata": {},
   "outputs": [],
   "source": [
    "#| hide\n",
    "from nbdev.export import nb_export\n",
    "nb_export('vit_load.ipynb', '../../commons/api')"
   ]
  },
  {
   "cell_type": "code",
   "execution_count": null,
   "id": "4d901eba",
   "metadata": {},
   "outputs": [],
   "source": []
  }
 ],
 "metadata": {
  "kernelspec": {
   "display_name": "Python 3 (ipykernel)",
   "language": "python",
   "name": "python3"
  },
  "language_info": {
   "codemirror_mode": {
    "name": "ipython",
    "version": 3
   },
   "file_extension": ".py",
   "mimetype": "text/x-python",
   "name": "python",
   "nbconvert_exporter": "python",
   "pygments_lexer": "ipython3",
   "version": "3.8.10"
  }
 },
 "nbformat": 4,
 "nbformat_minor": 5
}
