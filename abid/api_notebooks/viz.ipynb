{
 "cells": [
  {
   "cell_type": "code",
   "execution_count": 1,
   "id": "d6ac703a",
   "metadata": {},
   "outputs": [],
   "source": [
    "#| default_exp viz"
   ]
  },
  {
   "cell_type": "code",
   "execution_count": 2,
   "id": "04004c26",
   "metadata": {},
   "outputs": [],
   "source": [
    "#| export\n",
    "from PIL import Image\n",
    "import torch\n",
    "from torchvision import transforms\n",
    "import numpy as np\n",
    "import matplotlib.pyplot as plt"
   ]
  },
  {
   "cell_type": "code",
   "execution_count": 2,
   "id": "b2d820e2",
   "metadata": {},
   "outputs": [],
   "source": [
    "#| export\n",
    "def visualize_saliency_overlay(axes, img, mask, probs=None, cat_idx=None, classes=None):\n",
    "    \"\"\"\n",
    "    Visualize the saliency maps on top of an image.\n",
    "    \n",
    "    input :\n",
    "      - axes : matplotlib axis to draw on\n",
    "      - img : ndarray (Image to be visualized)\n",
    "      - mask : ndarray (saliency map to be overlaid)\n",
    "      - probs : ndarray (optional probabilities of the output)\n",
    "      - cat_idx : int (optional index number into the probs)\n",
    "      - classes : list (optional classes list to convert cat_idx into string name)\n",
    "    \"\"\"\n",
    "    np_img = np.array(img)\n",
    "    heatmap = Image.fromarray(mask)\n",
    "    heatmap = np.array(heatmap.resize((np_img.shape[0], np_img.shape[1])))\n",
    "    axes.imshow(np_img)\n",
    "    heatmap = (heatmap / np.max(heatmap)) * 255.0\n",
    "    axes.imshow(heatmap, cmap='turbo', # seismic, hot, Reds\n",
    "                alpha=0.5)\n",
    "    axes.set_ylabel(\"Segmentation-based Ground Saliency\")\n",
    "    axes.set_xticks([])\n",
    "    axes.set_xticks([], minor=True)\n",
    "    axes.set_yticks([])\n",
    "    axes.set_yticks([], minor=True)\n",
    "    \n",
    "    if probs is not None and cat_idx is not None and classes is not None:\n",
    "        if isinstance(probs, np.ndarray):\n",
    "            axes.set_title(f\"Class: {classes[cat_idx]} ({probs[0, cat_idx].item()*100:.2f}%)\")\n",
    "        elif isinstance(probs, float):\n",
    "            axes.set_title(f\"Class: {classes[cat_idx]} ({probs * 100:.2f}%)\")\n",
    "    \n",
    "    return heatmap"
   ]
  },
  {
   "cell_type": "code",
   "execution_count": 2,
   "id": "a55c7447",
   "metadata": {},
   "outputs": [],
   "source": [
    "#| hide\n",
    "from nbdev.export import nb_export\n",
    "nb_export('viz.ipynb', '../../commons/api')"
   ]
  }
 ],
 "metadata": {
  "kernelspec": {
   "display_name": "Python 3 (ipykernel)",
   "language": "python",
   "name": "python3"
  },
  "language_info": {
   "codemirror_mode": {
    "name": "ipython",
    "version": 3
   },
   "file_extension": ".py",
   "mimetype": "text/x-python",
   "name": "python",
   "nbconvert_exporter": "python",
   "pygments_lexer": "ipython3",
   "version": "3.8.10"
  }
 },
 "nbformat": 4,
 "nbformat_minor": 5
}
