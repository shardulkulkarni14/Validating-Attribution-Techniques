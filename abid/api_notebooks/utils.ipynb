{
 "cells": [
  {
   "cell_type": "code",
   "execution_count": 1,
   "id": "ead54777",
   "metadata": {},
   "outputs": [],
   "source": [
    "#| default_exp utils"
   ]
  },
  {
   "cell_type": "code",
   "execution_count": 2,
   "id": "41a8ac4c",
   "metadata": {},
   "outputs": [],
   "source": [
    "#| export\n",
    "import os"
   ]
  },
  {
   "cell_type": "code",
   "execution_count": 4,
   "id": "b97087df",
   "metadata": {},
   "outputs": [],
   "source": [
    "#| export\n",
    "def set_to_our_gpus(gpu_str=\"2,3\"):\n",
    "    os.environ['CUDA_VISIBLE_DEVICES'] = gpu_str"
   ]
  },
  {
   "cell_type": "code",
   "execution_count": 5,
   "id": "1af5d06b",
   "metadata": {},
   "outputs": [],
   "source": [
    "#| export\n",
    "def print_gpu_used_torch():\n",
    "    ngpu = torch.cuda.device_count()\n",
    "    for gpu_id in range(ngpu):\n",
    "        gpu = torch.cuda.get_device_name(gpu_id)\n",
    "        print(f\"GPU:{gpu_id} {gpu}\")"
   ]
  },
  {
   "cell_type": "code",
   "execution_count": 6,
   "id": "f703b62e",
   "metadata": {},
   "outputs": [],
   "source": [
    "#| export\n",
    "def enable_web_access():\n",
    "    os.environ['HTTP_PROXY'] = 'http://fp.cs.ovgu.de:3210/'\n",
    "    os.environ['HTTPS_PROXY'] = 'http://fp.cs.ovgu.de:3210/'"
   ]
  },
  {
   "cell_type": "code",
   "execution_count": 7,
   "id": "f5937daf",
   "metadata": {},
   "outputs": [],
   "source": [
    "#| export\n",
    "def change_to_project_dir(subdir=\"abid\"):\n",
    "    os.chdir(os.path.join(os.path.expanduser(\"~\") , \"project/validating_attribution_techniques/\" + subdir))\n",
    "\n",
    "def print_cwd():\n",
    "    for content in os.listdir(os.getcwd()):\n",
    "        print(content)"
   ]
  },
  {
   "cell_type": "code",
   "execution_count": 7,
   "id": "9138f864",
   "metadata": {
    "scrolled": true
   },
   "outputs": [],
   "source": [
    "#| hide\n",
    "from nbdev.export import nb_export\n",
    "nb_export('utils.ipynb', '../../commons/api')"
   ]
  }
 ],
 "metadata": {
  "kernelspec": {
   "display_name": "Python 3 (ipykernel)",
   "language": "python",
   "name": "python3"
  },
  "language_info": {
   "codemirror_mode": {
    "name": "ipython",
    "version": 3
   },
   "file_extension": ".py",
   "mimetype": "text/x-python",
   "name": "python",
   "nbconvert_exporter": "python",
   "pygments_lexer": "ipython3",
   "version": "3.8.10"
  }
 },
 "nbformat": 4,
 "nbformat_minor": 5
}
