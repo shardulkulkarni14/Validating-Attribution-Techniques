{
 "cells": [
  {
   "cell_type": "code",
   "execution_count": 1,
   "id": "4fbc5c34",
   "metadata": {
    "scrolled": false
   },
   "outputs": [],
   "source": [
    "import torch"
   ]
  },
  {
   "cell_type": "code",
   "execution_count": 2,
   "id": "1cd932b5",
   "metadata": {},
   "outputs": [
    {
     "name": "stderr",
     "output_type": "stream",
     "text": [
      "Using cache found in /home/hashimi/.cache/torch/hub/facebookresearch_deit_main\n"
     ]
    },
    {
     "name": "stdout",
     "output_type": "stream",
     "text": [
      "Module hook registered for: blocks.0.attn.attn_drop\n",
      "Module hook registered for: blocks.1.attn.attn_drop\n",
      "Module hook registered for: blocks.2.attn.attn_drop\n",
      "Module hook registered for: blocks.3.attn.attn_drop\n",
      "Module hook registered for: blocks.4.attn.attn_drop\n",
      "Module hook registered for: blocks.5.attn.attn_drop\n",
      "Module hook registered for: blocks.6.attn.attn_drop\n",
      "Module hook registered for: blocks.7.attn.attn_drop\n",
      "Module hook registered for: blocks.8.attn.attn_drop\n",
      "Module hook registered for: blocks.9.attn.attn_drop\n",
      "Module hook registered for: blocks.10.attn.attn_drop\n",
      "Module hook registered for: blocks.11.attn.attn_drop\n",
      "[]\n"
     ]
    }
   ],
   "source": [
    "model = torch.hub.load('facebookresearch/deit:main',  'deit_tiny_patch16_224', pretrained=True)\n",
    "model.eval()\n",
    "\n",
    "linears = []\n",
    "for name, module in model.named_modules():\n",
    "  if \"attn_drop\" in name:\n",
    "    print(f\"Module hook registered for: {name}\")\n",
    "    module.register_forward_hook(lambda m, i, o: linears.append(o))\n",
    "\n",
    "\n",
    "print(linears)"
   ]
  },
  {
   "cell_type": "code",
   "execution_count": 3,
   "id": "95d43610",
   "metadata": {},
   "outputs": [
    {
     "data": {
      "text/plain": [
       "tensor([[1., 0., 0., 0., 0., 0., 0., 0., 0., 0.],\n",
       "        [1., 1., 0., 0., 0., 0., 0., 0., 0., 0.],\n",
       "        [1., 1., 1., 0., 0., 0., 0., 0., 0., 0.],\n",
       "        [1., 1., 1., 1., 0., 0., 0., 0., 0., 0.],\n",
       "        [1., 1., 1., 1., 1., 0., 0., 0., 0., 0.],\n",
       "        [1., 1., 1., 1., 1., 1., 0., 0., 0., 0.],\n",
       "        [1., 1., 1., 1., 1., 1., 1., 0., 0., 0.],\n",
       "        [1., 1., 1., 1., 1., 1., 1., 1., 0., 0.],\n",
       "        [1., 1., 1., 1., 1., 1., 1., 1., 1., 0.],\n",
       "        [1., 1., 1., 1., 1., 1., 1., 1., 1., 1.]])"
      ]
     },
     "execution_count": 3,
     "metadata": {},
     "output_type": "execute_result"
    }
   ],
   "source": [
    "torch.tril(torch.ones(10, 10))"
   ]
  },
  {
   "cell_type": "code",
   "execution_count": 3,
   "id": "7d8dec1d",
   "metadata": {},
   "outputs": [
    {
     "data": {
      "text/plain": [
       "tensor([0, 1, 2, 3, 4, 5, 6, 7, 8, 9])"
      ]
     },
     "execution_count": 3,
     "metadata": {},
     "output_type": "execute_result"
    }
   ],
   "source": [
    "torch.arange(10)"
   ]
  },
  {
   "cell_type": "code",
   "execution_count": 7,
   "id": "a6918039",
   "metadata": {},
   "outputs": [
    {
     "data": {
      "text/plain": [
       "torch.Size([1, 32, 16])"
      ]
     },
     "execution_count": 7,
     "metadata": {},
     "output_type": "execute_result"
    }
   ],
   "source": [
    "ten = torch.nn.LayerNorm(16)(torch.randn((1, 32, 16)))\n",
    "ten.shape"
   ]
  },
  {
   "cell_type": "code",
   "execution_count": null,
   "id": "51fc699c",
   "metadata": {},
   "outputs": [],
   "source": []
  }
 ],
 "metadata": {
  "kernelspec": {
   "display_name": "Python 3 (ipykernel)",
   "language": "python",
   "name": "python3"
  },
  "language_info": {
   "codemirror_mode": {
    "name": "ipython",
    "version": 3
   },
   "file_extension": ".py",
   "mimetype": "text/x-python",
   "name": "python",
   "nbconvert_exporter": "python",
   "pygments_lexer": "ipython3",
   "version": "3.8.10"
  }
 },
 "nbformat": 4,
 "nbformat_minor": 5
}
