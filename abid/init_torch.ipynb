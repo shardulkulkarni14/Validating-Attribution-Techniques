{
 "cells": [
  {
   "cell_type": "markdown",
   "id": "413d0c62",
   "metadata": {},
   "source": [
    "### Using only GPU Idx 2 and 3"
   ]
  },
  {
   "cell_type": "code",
   "execution_count": 1,
   "id": "0fa37aee",
   "metadata": {},
   "outputs": [],
   "source": [
    "import os\n",
    "os.environ['CUDA_VISIBLE_DEVICES'] = \"2,3\""
   ]
  },
  {
   "cell_type": "markdown",
   "id": "be49aef1",
   "metadata": {},
   "source": [
    "### Now to the good stuff"
   ]
  },
  {
   "cell_type": "code",
   "execution_count": 1,
   "id": "c5d8d499",
   "metadata": {},
   "outputs": [],
   "source": [
    "import torch\n",
    "import matplotlib.pyplot as plt\n",
    "import numpy as np"
   ]
  },
  {
   "cell_type": "code",
   "execution_count": 3,
   "id": "e9e77fd9",
   "metadata": {},
   "outputs": [],
   "source": [
    "ngpu = torch.cuda.device_count()"
   ]
  },
  {
   "cell_type": "code",
   "execution_count": 4,
   "id": "b579584c",
   "metadata": {},
   "outputs": [
    {
     "name": "stdout",
     "output_type": "stream",
     "text": [
      "GPU:0 NVIDIA GeForce RTX 2080 Ti\n",
      "GPU:1 NVIDIA GeForce RTX 2080 Ti\n"
     ]
    }
   ],
   "source": [
    "for gpu_id in range(ngpu):\n",
    "    gpu = torch.cuda.get_device_name(gpu_id)\n",
    "    print(f\"GPU:{gpu_id} {gpu}\")"
   ]
  },
  {
   "cell_type": "code",
   "execution_count": 8,
   "id": "c09cce77",
   "metadata": {},
   "outputs": [],
   "source": [
    "def cummulative_sum(lst):\n",
    "    \"\"\"\n",
    "    The function takes a list and returns the cummulative sum of the elements\n",
    "    Input \n",
    "      - lst : numpy ndarray\n",
    "      - saliency_map : numpy\n",
    "        (Saliency dim must be the same as the image)\n",
    "    Return\n",
    "      - cummulative_sum : numpy ndarray\n",
    "    \"\"\"\n",
    "    summ = 0\n",
    "    cummulative_lst = np.array([])\n",
    "    for i in lst:\n",
    "        summ = i + summ\n",
    "        cummulative_lst, summ)\n",
    "    return cummulative_lst"
   ]
  },
  {
   "cell_type": "code",
   "execution_count": 5,
   "id": "9854ca6a",
   "metadata": {},
   "outputs": [
    {
     "data": {
      "text/plain": [
       "[4, 9, 15, 22]"
      ]
     },
     "execution_count": 5,
     "metadata": {},
     "output_type": "execute_result"
    }
   ],
   "source": [
    "cummulative_sum([4,5 ,6, 7])"
   ]
  },
  {
   "cell_type": "code",
   "execution_count": 9,
   "id": "b67f7861",
   "metadata": {},
   "outputs": [],
   "source": [
    "cummulative_sum?"
   ]
  },
  {
   "cell_type": "code",
   "execution_count": null,
   "id": "726751a2",
   "metadata": {},
   "outputs": [],
   "source": []
  }
 ],
 "metadata": {
  "kernelspec": {
   "display_name": "Python 3 (ipykernel)",
   "language": "python",
   "name": "python3"
  },
  "language_info": {
   "codemirror_mode": {
    "name": "ipython",
    "version": 3
   },
   "file_extension": ".py",
   "mimetype": "text/x-python",
   "name": "python",
   "nbconvert_exporter": "python",
   "pygments_lexer": "ipython3",
   "version": "3.8.10"
  }
 },
 "nbformat": 4,
 "nbformat_minor": 5
}
