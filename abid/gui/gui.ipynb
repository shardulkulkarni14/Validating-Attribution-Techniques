{
 "cells": [
  {
   "cell_type": "code",
   "execution_count": 5,
   "id": "6b425b36-8136-465d-bd98-ac73e4aafe46",
   "metadata": {},
   "outputs": [],
   "source": [
    "import numpy as np\n",
    "from ipywidgets.widgets import Label, FloatProgress, FloatSlider, Button, RadioButtons, Checkbox, Dropdown, HTML, Image, ToggleButtons\n",
    "from ipywidgets.widgets import Layout, HBox, VBox\n",
    "from IPython.display import display\n",
    "# import bqplot as bq\n",
    "import time\n",
    "import threading"
   ]
  },
  {
   "cell_type": "code",
   "execution_count": 6,
   "id": "62a8a6f9-7a53-42b7-b845-492f4061d7af",
   "metadata": {},
   "outputs": [],
   "source": [
    "flag = True\n",
    "\n",
    "# data\n",
    "x = np.linspace(0, 2*np.pi, 500)\n",
    "dx = x[1] - x[0]\n",
    "y = 1 + np.sin(x)"
   ]
  },
  {
   "cell_type": "markdown",
   "id": "e50bf958-7fd8-4599-ba0f-c34b2d5574c4",
   "metadata": {},
   "source": [
    "### GUI Stuff"
   ]
  },
  {
   "cell_type": "code",
   "execution_count": 7,
   "id": "adabc767-4769-4843-95ca-8beff079ad97",
   "metadata": {},
   "outputs": [
    {
     "data": {
      "application/vnd.jupyter.widget-view+json": {
       "model_id": "05b78c7778ea4ae0b24473b376d4689b",
       "version_major": 2,
       "version_minor": 0
      },
      "text/plain": [
       "FloatSlider(value=0.0, description='Noise:', layout=Layout(margin='0 0 5px 0', width='490px'), max=0.5, step=0…"
      ]
     },
     "metadata": {},
     "output_type": "display_data"
    }
   ],
   "source": [
    "# Button\n",
    "b_stop = Button(\n",
    "    description='Stop',\n",
    "    icon='stop',\n",
    "    button_style='warning',\n",
    "    layout=Layout(width='100px')\n",
    ")\n",
    "\n",
    "def stop_click(b):\n",
    "    global flag\n",
    "    flag = False\n",
    "    \n",
    "b_stop.on_click(stop_click)\n",
    "\n",
    "# Progress bar\n",
    "w1 = FloatProgress(\n",
    "    value=y[-1],\n",
    "    min=0,\n",
    "    max=2,\n",
    "    description='PV:',\n",
    "    style={'description_width':'initial'},\n",
    "    layout=Layout(width='365px')\n",
    ")\n",
    "w2 = Label(\n",
    "    value=str(np.round(y[-1], 2)),\n",
    "    layout=Layout(margin='0 10px 0 31px')\n",
    ")\n",
    "\n",
    "w12 = HBox(\n",
    "    children=(w1, w2),\n",
    "    layout=Layout(margin='0 0 0 43px')\n",
    ")\n",
    "w12\n",
    "\n",
    "wA = FloatSlider(\n",
    "    value=0,\n",
    "    min=0,\n",
    "    max=0.5,\n",
    "    step=0.01,\n",
    "    description='Noise:',\n",
    "    layout=Layout(width='490px', margin='0 0 5px 0')\n",
    ")\n",
    "\n",
    "wA"
   ]
  },
  {
   "cell_type": "code",
   "execution_count": 8,
   "id": "db435688-f648-48ea-a2d1-3285918dddae",
   "metadata": {},
   "outputs": [
    {
     "data": {
      "text/plain": [
       "0.9999999999999998"
      ]
     },
     "execution_count": 8,
     "metadata": {},
     "output_type": "execute_result"
    }
   ],
   "source": [
    "y[-1]"
   ]
  },
  {
   "cell_type": "code",
   "execution_count": 9,
   "id": "332531b6-68b6-4bdb-9274-a865eb09d4af",
   "metadata": {},
   "outputs": [
    {
     "data": {
      "application/vnd.jupyter.widget-view+json": {
       "model_id": "0eb53c60a8404dcc89dfcb2fe1bcc2fb",
       "version_major": 2,
       "version_minor": 0
      },
      "text/plain": [
       "Figure(axes=[Axis(label='x(t)', scale=LinearScale()), Axis(label='y(t)', orientation='vertical', scale=LinearS…"
      ]
     },
     "metadata": {},
     "output_type": "display_data"
    }
   ],
   "source": [
    "# Plot\n",
    "\n",
    "x_sc = bq.LinearScale()\n",
    "y_sc = bq.LinearScale()\n",
    "\n",
    "# axis\n",
    "x_ax = bq.Axis(\n",
    "    label='x(t)',\n",
    "    scale=x_sc\n",
    ")\n",
    "y_ax = bq.Axis(\n",
    "    label='y(t)',\n",
    "    scale=y_sc,\n",
    "    orientation='vertical'\n",
    ")\n",
    "\n",
    "Line = bq.Lines(\n",
    "    x=x, y=y,\n",
    "    scales={'x' : x_sc, 'y' : y_sc }\n",
    ")\n",
    "\n",
    "fig = bq.Figure(\n",
    "    layout=Layout(width='500px', height='300px'),\n",
    "    axes=[x_ax, y_ax],\n",
    "    marks=[Line],\n",
    "    fig_margin=dict(top=10, bottom=40, left=50, right=10)\n",
    ")\n",
    "\n",
    "fig"
   ]
  },
  {
   "cell_type": "code",
   "execution_count": 10,
   "id": "34d31293-9e41-4249-b57e-33989111eafb",
   "metadata": {},
   "outputs": [
    {
     "data": {
      "application/vnd.jupyter.widget-view+json": {
       "model_id": "7f31f4f96c4f49738e0f185999654183",
       "version_major": 2,
       "version_minor": 0
      },
      "text/plain": [
       "VBox(children=(Button(button_style='warning', description='Stop', icon='stop', layout=Layout(width='100px'), s…"
      ]
     },
     "metadata": {},
     "output_type": "display_data"
    }
   ],
   "source": [
    "box = VBox(\n",
    "    children=(fig, w12, wA),\n",
    "    layout=Layout(border='solid 2px gray', width='510px')\n",
    ")\n",
    "\n",
    "app = VBox(\n",
    "    children=(b_stop, box)\n",
    ")\n",
    "app"
   ]
  },
  {
   "cell_type": "code",
   "execution_count": 11,
   "id": "814e5d68-5d77-4015-a8d5-0dc327e2a774",
   "metadata": {},
   "outputs": [],
   "source": [
    "def do_work():\n",
    "    global x\n",
    "    global y\n",
    "    \n",
    "    while flag:\n",
    "        A = wA.value\n",
    "        \n",
    "        x = np.delete(x, 0)\n",
    "        y = np.delete(y, 0)\n",
    "        \n",
    "        x = np.append(x, x[-1]+dx)\n",
    "        noise = A*np.random.rand()\n",
    "        y = np.append(y, 1+ np.sin(x[-1]) + noise)\n",
    "        \n",
    "        w1.value = y[-1]\n",
    "        w2.value = str(np.round(y[-1],2))\n",
    "        \n",
    "        Line.x = x\n",
    "        Line.y = y\n",
    "        \n",
    "        time.sleep(0.05)"
   ]
  },
  {
   "cell_type": "code",
   "execution_count": 12,
   "id": "a896b617-461e-4b09-919c-d2a4bb406dd9",
   "metadata": {},
   "outputs": [
    {
     "data": {
      "application/vnd.jupyter.widget-view+json": {
       "model_id": "7f31f4f96c4f49738e0f185999654183",
       "version_major": 2,
       "version_minor": 0
      },
      "text/plain": [
       "VBox(children=(Button(button_style='warning', description='Stop', icon='stop', layout=Layout(width='100px'), s…"
      ]
     },
     "metadata": {},
     "output_type": "display_data"
    }
   ],
   "source": [
    "flag = True\n",
    "\n",
    "thread = threading.Thread(target=do_work)\n",
    "display(app)\n",
    "thread.start()"
   ]
  },
  {
   "cell_type": "code",
   "execution_count": 13,
   "id": "2686092e-ab53-4102-b95b-7272e8142eb4",
   "metadata": {},
   "outputs": [
    {
     "data": {
      "application/vnd.jupyter.widget-view+json": {
       "model_id": "a3604a7f2ca2435eb90714ab39d74430",
       "version_major": 2,
       "version_minor": 0
      },
      "text/plain": [
       "RadioButtons(description='Model Selection:', index=1, options=('Model 1', 'Model 2', 'Model 3'), value='Model …"
      ]
     },
     "metadata": {},
     "output_type": "display_data"
    }
   ],
   "source": [
    "# Radio button\n",
    "\n",
    "val = RadioButtons(\n",
    "    options=['Model 1', 'Model 2', 'Model 3'],\n",
    "    value='Model 2', # Defaults to 'pineapple'\n",
    "#    layout={'width': 'max-content'}, # If the items' names are long\n",
    "    description='Model Selection:',\n",
    "    disabled=False\n",
    ")\n",
    "val"
   ]
  },
  {
   "cell_type": "code",
   "execution_count": 14,
   "id": "14107585-611d-42b0-95fb-ba62721a9f61",
   "metadata": {},
   "outputs": [
    {
     "name": "stdout",
     "output_type": "stream",
     "text": [
      "2\n"
     ]
    }
   ],
   "source": [
    "print(val.index)"
   ]
  },
  {
   "cell_type": "code",
   "execution_count": 15,
   "id": "0ed4a6ce-b41e-4365-8d01-3560831df11f",
   "metadata": {},
   "outputs": [
    {
     "data": {
      "application/vnd.jupyter.widget-view+json": {
       "model_id": "a73b42e6b1d842b3a59c1f13778df20c",
       "version_major": 2,
       "version_minor": 0
      },
      "text/plain": [
       "Checkbox(value=False, description='Check me', indent=False)"
      ]
     },
     "metadata": {},
     "output_type": "display_data"
    }
   ],
   "source": [
    "# Checkbox\n",
    "\n",
    "checkb = Checkbox(\n",
    "    value=False,\n",
    "    description='Check me',\n",
    "    disabled=False,\n",
    "    indent=False\n",
    ")\n",
    "checkb"
   ]
  },
  {
   "cell_type": "code",
   "execution_count": 16,
   "id": "de40be64-9370-4d02-beb8-568b13614416",
   "metadata": {},
   "outputs": [
    {
     "name": "stdout",
     "output_type": "stream",
     "text": [
      "False\n"
     ]
    }
   ],
   "source": [
    "print(checkb.value)"
   ]
  },
  {
   "cell_type": "code",
   "execution_count": 17,
   "id": "e7d72a46-2423-4a20-bc90-4683262c82a7",
   "metadata": {},
   "outputs": [
    {
     "data": {
      "application/vnd.jupyter.widget-view+json": {
       "model_id": "f6479e489d0c4369a336be8ef1b9ee8a",
       "version_major": 2,
       "version_minor": 0
      },
      "text/plain": [
       "Dropdown(description='Images:', index=1, options=('Image 1', 'Image 2', 'Image 3'), value='Image 2')"
      ]
     },
     "metadata": {},
     "output_type": "display_data"
    }
   ],
   "source": [
    "# Dropdown\n",
    "\n",
    "dropdown = Dropdown(\n",
    "    options=['Image 1', 'Image 2', 'Image 3'],\n",
    "    value='Image 2',\n",
    "    description='Images:',\n",
    "    disabled=False,\n",
    ")\n",
    "dropdown"
   ]
  },
  {
   "cell_type": "code",
   "execution_count": 19,
   "id": "1569fb59-e226-4360-b0d1-60d3b33accd9",
   "metadata": {},
   "outputs": [
    {
     "data": {
      "application/vnd.jupyter.widget-view+json": {
       "model_id": "fde925bc7b6148dc8d06dcfff6e0294e",
       "version_major": 2,
       "version_minor": 0
      },
      "text/plain": [
       "HTML(value='\\n<!DOCTYPE html>\\n<html>\\n<head>\\n<style>\\ntable {\\n  font-family: arial, sans-serif;\\n  border-c…"
      ]
     },
     "metadata": {},
     "output_type": "display_data"
    }
   ],
   "source": [
    "table_html = \"\"\"\n",
    "<!DOCTYPE html>\n",
    "<html>\n",
    "<head>\n",
    "<style>\n",
    "table {\n",
    "  font-family: arial, sans-serif;\n",
    "  border-collapse: collapse;\n",
    "  width: 100%;\n",
    "}\n",
    "\n",
    "td, th {\n",
    "  border: 1px solid #dddddd;\n",
    "  text-align: left;\n",
    "  padding: 8px;\n",
    "}\n",
    "\n",
    "</style>\n",
    "</head>\n",
    "<body>\n",
    "\n",
    "<h2>Saliency Verification Result</h2>\n",
    "\n",
    "<table>\n",
    "  <tr>\n",
    "    <th>Company</th>\n",
    "    <th>Contact</th>\n",
    "    <th>Country</th>\n",
    "  </tr>\n",
    "  <tr>\n",
    "    <td>Alfreds Futterkiste</td>\n",
    "    <td>Maria Anders</td>\n",
    "    <td>Germany</td>\n",
    "  </tr>\n",
    "  <tr>\n",
    "    <td>Centro comercial Moctezuma</td>\n",
    "    <td>Francisco Chang</td>\n",
    "    <td>Mexico</td>\n",
    "  </tr>\n",
    "  <tr>\n",
    "    <td>Ernst Handel</td>\n",
    "    <td>Roland Mendel</td>\n",
    "    <td>Austria</td>\n",
    "  </tr>\n",
    "  <tr>\n",
    "    <td>Island Trading</td>\n",
    "    <td>Helen Bennett</td>\n",
    "    <td>UK</td>\n",
    "  </tr>\n",
    "  <tr>\n",
    "    <td>Laughing Bacchus Winecellars</td>\n",
    "    <td>Yoshi Tannamuri</td>\n",
    "    <td>Canada</td>\n",
    "  </tr>\n",
    "  <tr>\n",
    "    <td>Magazzini Alimentari Riuniti</td>\n",
    "    <td>Giovanni Rovelli</td>\n",
    "    <td>Italy</td>\n",
    "  </tr>\n",
    "</table>\n",
    "\n",
    "</body>\n",
    "</html>\n",
    "\"\"\"\n",
    "\n",
    "table = HTML(\n",
    "    value=table_html,\n",
    "    placeholder='',\n",
    "    description='',\n",
    ")\n",
    "table"
   ]
  },
  {
   "cell_type": "code",
   "execution_count": 20,
   "id": "de466313-a307-495f-8b8e-3c60297feb77",
   "metadata": {},
   "outputs": [],
   "source": [
    "img1 = Image(value=open(\"image_1.JPEG\", 'rb').read(), format='jpeg', width=300, height=400)\n",
    "img2 = Image(value=open(\"image_2.JPEG\", 'rb').read(), format='jpeg', width=300, height=400)\n",
    "img3 = Image(value=open(\"image_3.JPEG\", 'rb').read(), format='jpeg', width=300, height=400)\n",
    "img4 = Image(value=open(\"image_4.JPEG\", 'rb').read(), format='jpeg', width=300, height=400)"
   ]
  },
  {
   "cell_type": "code",
   "execution_count": 21,
   "id": "766ef07b-425f-4e53-b139-e2b707f6efc7",
   "metadata": {},
   "outputs": [
    {
     "data": {
      "application/vnd.jupyter.widget-view+json": {
       "model_id": "ba84fb2ab6404ecd9004b0c38f2cc04c",
       "version_major": 2,
       "version_minor": 0
      },
      "text/plain": [
       "VBox(children=(HBox(children=(VBox(children=(Label(value='Image1'), Image(value=b'\\xff\\xd8\\xff\\xe0\\x00\\x10JFIF…"
      ]
     },
     "metadata": {},
     "output_type": "display_data"
    }
   ],
   "source": [
    "img1_box = VBox([Label(value='Image1'), img1])\n",
    "img2_box = VBox([Label(value='Image2'), img2])\n",
    "img3_box = VBox([Label(value='Image3'), img3])\n",
    "img4_box = VBox([Label(value='Image4'), img4])\n",
    "\n",
    "tog = ToggleButtons(\n",
    "    options=['Image 1', 'Image 2', 'Image 3', 'Image 4'],\n",
    "    description='Select an image for the saliency validation:',\n",
    "    disabled=False,\n",
    "    button_style='', # 'success', 'info', 'warning', 'danger' or ''\n",
    "    tooltips=['Image 1', 'Image 2', 'Image 3', 'Image 4'],\n",
    "#     icons=['check'] * 3\n",
    ")\n",
    "imgs = HBox([img1_box, img2_box, img3_box, img4_box])\n",
    "\n",
    "VBox([imgs, tog])"
   ]
  },
  {
   "cell_type": "markdown",
   "id": "0555836a-2488-4109-a04c-527e8ade1d93",
   "metadata": {},
   "source": [
    "---\n",
    "More Widgets found at [this page](https://ipywidgets.readthedocs.io/en/latest/examples/Widget%20List.html)\n",
    "\n",
    "---"
   ]
  },
  {
   "cell_type": "code",
   "execution_count": null,
   "id": "95769b70-7502-4742-84ee-f095bca87a0f",
   "metadata": {},
   "outputs": [],
   "source": []
  }
 ],
 "metadata": {
  "kernelspec": {
   "display_name": "Python 3 (ipykernel)",
   "language": "python",
   "name": "python3"
  },
  "language_info": {
   "codemirror_mode": {
    "name": "ipython",
    "version": 3
   },
   "file_extension": ".py",
   "mimetype": "text/x-python",
   "name": "python",
   "nbconvert_exporter": "python",
   "pygments_lexer": "ipython3",
   "version": "3.8.10"
  }
 },
 "nbformat": 4,
 "nbformat_minor": 5
}
