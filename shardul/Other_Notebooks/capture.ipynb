{
 "cells": [
  {
   "cell_type": "code",
   "execution_count": 1,
   "id": "ed31c016",
   "metadata": {},
   "outputs": [],
   "source": [
    "import os\n",
    "\n",
    "os.environ['HTTP_PROXY'] = 'http://fp.cs.ovgu.de:3210/'\n",
    "os.environ['HTTPS_PROXY'] = 'http://fp.cs.ovgu.de:3210/'"
   ]
  },
  {
   "cell_type": "code",
   "execution_count": 3,
   "id": "17fd368d",
   "metadata": {},
   "outputs": [
    {
     "ename": "ImportError",
     "evalue": "cannot import name 'ScoreCAM' from 'captum.attr' (/scratch/shkulkar/python/lib/python3.8/site-packages/captum/attr/__init__.py)",
     "output_type": "error",
     "traceback": [
      "\u001b[0;31m---------------------------------------------------------------------------\u001b[0m",
      "\u001b[0;31mImportError\u001b[0m                               Traceback (most recent call last)",
      "\u001b[0;32m/tmp/ipykernel_92471/4175980925.py\u001b[0m in \u001b[0;36m<module>\u001b[0;34m\u001b[0m\n\u001b[1;32m      5\u001b[0m \u001b[0;32mimport\u001b[0m \u001b[0mnumpy\u001b[0m \u001b[0;32mas\u001b[0m \u001b[0mnp\u001b[0m\u001b[0;34m\u001b[0m\u001b[0;34m\u001b[0m\u001b[0m\n\u001b[1;32m      6\u001b[0m \u001b[0;32mimport\u001b[0m \u001b[0mmatplotlib\u001b[0m\u001b[0;34m.\u001b[0m\u001b[0mpyplot\u001b[0m \u001b[0;32mas\u001b[0m \u001b[0mplt\u001b[0m\u001b[0;34m\u001b[0m\u001b[0;34m\u001b[0m\u001b[0m\n\u001b[0;32m----> 7\u001b[0;31m \u001b[0;32mfrom\u001b[0m \u001b[0mcaptum\u001b[0m\u001b[0;34m.\u001b[0m\u001b[0mattr\u001b[0m \u001b[0;32mimport\u001b[0m \u001b[0mLayerGradCam\u001b[0m\u001b[0;34m,\u001b[0m \u001b[0mScoreCAM\u001b[0m\u001b[0;34m,\u001b[0m \u001b[0mGradCAM\u001b[0m\u001b[0;34m,\u001b[0m \u001b[0mLayerCAM\u001b[0m\u001b[0;34m\u001b[0m\u001b[0;34m\u001b[0m\u001b[0m\n\u001b[0m\u001b[1;32m      8\u001b[0m \u001b[0;34m\u001b[0m\u001b[0m\n\u001b[1;32m      9\u001b[0m \u001b[0;34m\u001b[0m\u001b[0m\n",
      "\u001b[0;31mImportError\u001b[0m: cannot import name 'ScoreCAM' from 'captum.attr' (/scratch/shkulkar/python/lib/python3.8/site-packages/captum/attr/__init__.py)"
     ]
    }
   ],
   "source": [
    "import torch\n",
    "import torch.nn as nn\n",
    "import torchvision.transforms as transforms\n",
    "from PIL import Image\n",
    "import numpy as np\n",
    "import matplotlib.pyplot as plt\n",
    "from captum.attr import LayerGradCam, ScoreCAM, GradCAM, LayerCAM"
   ]
  },
  {
   "cell_type": "code",
   "execution_count": null,
   "id": "43dfeecb",
   "metadata": {},
   "outputs": [],
   "source": [
    "os.environ['CUDA_VISIBLE_DEVICES'] = \"2,3\"\n",
    "ngpu = torch.cuda.device_count()\n",
    "for gpu_id in range(ngpu):\n",
    "    gpu = torch.cuda.get_device_name(gpu_id)\n",
    "    print(f\"GPU:{gpu_id} {gpu}\")"
   ]
  },
  {
   "cell_type": "code",
   "execution_count": null,
   "id": "34c9756e",
   "metadata": {},
   "outputs": [],
   "source": [
    "# Load a pre-trained model (for example, a ResNet model)\n",
    "model = torch.hub.load('pytorch/vision', 'resnet18', pretrained=True)\n",
    "model.eval()"
   ]
  },
  {
   "cell_type": "code",
   "execution_count": null,
   "id": "39637ba2",
   "metadata": {},
   "outputs": [],
   "source": [
    "# Load an image\n",
    "image_path = '/project/validating_attribution_techniques/commons/examples/input.png'\n",
    "img = Image.open(image_path)"
   ]
  },
  {
   "cell_type": "code",
   "execution_count": null,
   "id": "cd71e5f5",
   "metadata": {},
   "outputs": [],
   "source": [
    "\n",
    "\n",
    "# Preprocess the image for the model\n",
    "preprocess = transforms.Compose([\n",
    "    transforms.Resize((224, 224)),\n",
    "    transforms.ToTensor(),\n",
    "])\n",
    "\n",
    "input_img = preprocess(img).unsqueeze(0)  # Add batch dimension\n",
    "\n"
   ]
  },
  {
   "cell_type": "code",
   "execution_count": null,
   "id": "9b91771b",
   "metadata": {},
   "outputs": [],
   "source": [
    "# Define the attribution methods\n",
    "layer_grad_cam = LayerGradCam(model, model.layer4[-1])\n",
    "score_cam = ScoreCAM(model)\n",
    "grad_cam = GradCAM(model, model.layer4[-1])\n",
    "layer_cam = LayerCAM(model, model.layer4[-1])\n",
    "\n"
   ]
  },
  {
   "cell_type": "code",
   "execution_count": null,
   "id": "212f180b",
   "metadata": {},
   "outputs": [],
   "source": [
    "# Generate attribution maps\n",
    "attribution_layer_grad_cam = layer_grad_cam.attribute(input_img)\n",
    "attribution_score_cam = score_cam.attribute(input_img)\n",
    "attribution_grad_cam = grad_cam.attribute(input_img)\n",
    "attribution_layer_cam = layer_cam.attribute(input_img)\n",
    "\n"
   ]
  },
  {
   "cell_type": "code",
   "execution_count": null,
   "id": "fef4cb01",
   "metadata": {},
   "outputs": [],
   "source": [
    "# Plot the original image and attribution maps\n",
    "fig, axes = plt.subplots(1, 5, figsize=(15, 5))\n",
    "\n",
    "# Original Image\n",
    "axes[0].imshow(np.transpose(input_img.squeeze().cpu().numpy(), (1, 2, 0)))\n",
    "axes[0].set_title('Original Image')\n",
    "\n",
    "# GradCAM\n",
    "axes[1].imshow(attribution_grad_cam[0].cpu().numpy(), cmap='jet', alpha=0.5)\n",
    "axes[1].imshow(np.transpose(input_img.squeeze().cpu().numpy(), (1, 2, 0)), alpha=0.4)\n",
    "axes[1].set_title('GradCAM')\n",
    "\n",
    "# ScoreCAM\n",
    "axes[2].imshow(attribution_score_cam[0].cpu().numpy(), cmap='jet', alpha=0.5)\n",
    "axes[2].imshow(np.transpose(input_img.squeeze().cpu().numpy(), (1, 2, 0)), alpha=0.4)\n",
    "axes[2].set_title('ScoreCAM')\n",
    "\n",
    "# Layer GradCAM\n",
    "axes[3].imshow(attribution_layer_grad_cam[0].cpu().numpy(), cmap='jet', alpha=0.5)\n",
    "axes[3].imshow(np.transpose(input_img.squeeze().cpu().numpy(), (1, 2, 0)), alpha=0.4)\n",
    "axes[3].set_title('Layer GradCAM')\n",
    "\n",
    "# LayerCAM\n",
    "axes[4].imshow(attribution_layer_cam[0].cpu().numpy(), cmap='jet', alpha=0.5)\n",
    "axes[4].imshow(np.transpose(input_img.squeeze().cpu().numpy(), (1, 2, 0)), alpha=0.4)\n",
    "axes[4].set_title('LayerCAM')\n",
    "\n",
    "plt.show()\n"
   ]
  }
 ],
 "metadata": {
  "kernelspec": {
   "display_name": "Python 3 (ipykernel)",
   "language": "python",
   "name": "python3"
  },
  "language_info": {
   "codemirror_mode": {
    "name": "ipython",
    "version": 3
   },
   "file_extension": ".py",
   "mimetype": "text/x-python",
   "name": "python",
   "nbconvert_exporter": "python",
   "pygments_lexer": "ipython3",
   "version": "3.8.10"
  }
 },
 "nbformat": 4,
 "nbformat_minor": 5
}
