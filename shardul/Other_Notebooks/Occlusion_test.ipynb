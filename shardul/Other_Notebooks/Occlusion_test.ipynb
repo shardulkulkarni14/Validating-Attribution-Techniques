{
 "cells": [
  {
   "cell_type": "code",
   "execution_count": 1,
   "id": "41a2f621-10b8-45e1-8d1a-7d13cb54eee7",
   "metadata": {},
   "outputs": [],
   "source": [
    "import os\n",
    "os.chdir(\"/project/validating_attribution_techniques/\")"
   ]
  },
  {
   "cell_type": "code",
   "execution_count": 2,
   "id": "e9a88f31-996b-45ff-b9c3-3e896d5ad746",
   "metadata": {},
   "outputs": [],
   "source": [
    "from commons.api.utils import set_to_our_gpus, enable_web_access\n",
    "set_to_our_gpus()\n",
    "enable_web_access()"
   ]
  },
  {
   "cell_type": "code",
   "execution_count": 3,
   "id": "7ea8bc61-e33e-4dd0-a9ae-398118e34140",
   "metadata": {},
   "outputs": [],
   "source": [
    "import numpy as np\n",
    "import matplotlib.pyplot as plt\n",
    "import ipywidgets as widgets\n",
    "from ipywidgets.widgets import Label, FloatProgress, FloatSlider, Button, RadioButtons, Checkbox, Dropdown, HTML, Image, ToggleButtons\n",
    "from ipywidgets.widgets import Layout, HBox, VBox\n",
    "from IPython.display import display\n",
    "from ipywidgets import Output\n",
    "import time\n",
    "import threading\n",
    "from PIL import Image as PILImage\n",
    "import io"
   ]
  },
  {
   "cell_type": "code",
   "execution_count": 4,
   "id": "a751fe3a-59c4-410b-8c7c-580f1aba2f1c",
   "metadata": {},
   "outputs": [],
   "source": [
    "from commons.api.imagenet_tiny import get_imagenet_classes, get_random_images\n",
    "from commons.api.viz import visualize_saliency_overlay\n",
    "from commons.api.method.attribution import attribution\n",
    "\n",
    "from commons.api.target_layer import get_model_and_target_layer\n",
    "from commons.api.pil_to_tensor import pil_to_tensor"
   ]
  },
  {
   "cell_type": "code",
   "execution_count": null,
   "id": "6be99809-943f-4065-95d5-914e550e39d6",
   "metadata": {},
   "outputs": [],
   "source": []
  }
 ],
 "metadata": {
  "kernelspec": {
   "display_name": "Python 3 (ipykernel)",
   "language": "python",
   "name": "python3"
  },
  "language_info": {
   "codemirror_mode": {
    "name": "ipython",
    "version": 3
   },
   "file_extension": ".py",
   "mimetype": "text/x-python",
   "name": "python",
   "nbconvert_exporter": "python",
   "pygments_lexer": "ipython3",
   "version": "3.8.10"
  },
  "widgets": {
   "application/vnd.jupyter.widget-state+json": {
    "state": {},
    "version_major": 2,
    "version_minor": 0
   }
  }
 },
 "nbformat": 4,
 "nbformat_minor": 5
}
