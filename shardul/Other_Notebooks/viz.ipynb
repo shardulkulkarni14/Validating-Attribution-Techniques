{
 "cells": [
  {
   "cell_type": "code",
   "execution_count": 9,
   "id": "4032327d",
   "metadata": {},
   "outputs": [],
   "source": [
    "#| default_exp viz"
   ]
  },
  {
   "cell_type": "code",
   "execution_count": 10,
   "id": "2a5e01b3",
   "metadata": {},
   "outputs": [],
   "source": [
    "#| export\n",
    "from PIL import Image\n",
    "import torch\n",
    "from torchvision import transforms\n",
    "import numpy as np\n",
    "import matplotlib.pyplot as plt"
   ]
  },
  {
   "cell_type": "code",
   "execution_count": 11,
   "id": "a5b7269b",
   "metadata": {},
   "outputs": [],
   "source": [
    "#| export\n",
    "def visualize_saliency_overlay(axes, img, mask, probs=None, cat_idx=None, classes=None):\n",
    "    \n",
    "    np_img = np.array(img)\n",
    "    heatmap = Image.fromarray(mask)\n",
    "    heatmap = np.array(heatmap.resize((np_img.shape[0], np_img.shape[1])))\n",
    "#     axes.imshow(np_img)\n",
    "    heatmap = (heatmap / np.max(heatmap)) * 255.0\n",
    "    axes.imshow(heatmap, cmap='turbo', # seismic, hot, Reds\n",
    "              alpha=0.5)\n",
    "    if probs is not None and cat_idx is not None and classes is not None:\n",
    "        if isinstance(probs, np.ndarray):\n",
    "            axes.set_title(f\"Class: {classes[cat_idx]} ({probs[0, cat_idx].item()*100:.2f}%)\")\n",
    "        elif isinstance(probs, float):\n",
    "            axes.set_title(f\"Class: {classes[cat_idx]} ({probs * 100:.2f}%)\")\n",
    "    \n",
    "    return heatmap"
   ]
  },
  {
   "cell_type": "code",
   "execution_count": 12,
   "id": "0e336aa1",
   "metadata": {},
   "outputs": [],
   "source": [
    "#| hide\n",
    "from nbdev.export import nb_export\n",
    "nb_export('viz.ipynb', '/project/validating_attribution_techniques/shardul/api')"
   ]
  },
  {
   "cell_type": "code",
   "execution_count": null,
   "id": "78a8901f",
   "metadata": {},
   "outputs": [],
   "source": []
  }
 ],
 "metadata": {
  "kernelspec": {
   "display_name": "Python 3 (ipykernel)",
   "language": "python",
   "name": "python3"
  },
  "language_info": {
   "codemirror_mode": {
    "name": "ipython",
    "version": 3
   },
   "file_extension": ".py",
   "mimetype": "text/x-python",
   "name": "python",
   "nbconvert_exporter": "python",
   "pygments_lexer": "ipython3",
   "version": "3.8.10"
  }
 },
 "nbformat": 4,
 "nbformat_minor": 5
}
