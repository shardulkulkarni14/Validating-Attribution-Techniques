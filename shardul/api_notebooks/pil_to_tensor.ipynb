{
 "cells": [
  {
   "cell_type": "code",
   "execution_count": 5,
   "id": "c80d55ee-de8b-4214-af27-02135ffd1951",
   "metadata": {},
   "outputs": [],
   "source": [
    "#| default_exp pil_to_tensor"
   ]
  },
  {
   "cell_type": "code",
   "execution_count": 6,
   "id": "401d5c07-bb6a-44eb-a55a-35d16af257a3",
   "metadata": {},
   "outputs": [],
   "source": [
    "#| export\n",
    "import os\n",
    "from torchvision import transforms"
   ]
  },
  {
   "cell_type": "code",
   "execution_count": 7,
   "id": "9b9bca76-94b5-47e8-87b3-7ba4cdc5b57c",
   "metadata": {},
   "outputs": [],
   "source": [
    "#| export\n",
    "def pil_to_tensor(image, resize_size=(224, 224), normalize=True):\n",
    "    \"\"\"\n",
    "    Transform a PIL image into a tensor with optional resizing and normalization.\n",
    "\n",
    "    Args:\n",
    "        image (PIL.Image.Image): The input PIL image to be transformed.\n",
    "        resize_size (tuple): The target size for resizing the image. Default is (224, 224).\n",
    "        normalize (bool): Whether to normalize the tensor. Default is True.\n",
    "\n",
    "    Returns:\n",
    "        torch.Tensor: The transformed image as a tensor.\n",
    "\n",
    "    Usage:\n",
    "    - Call this function to convert a PIL image into a tensor, optionally resizing and normalizing it.\n",
    "    - By default, the function resizes the image to (224, 224) and applies mean and standard deviation normalization.\n",
    "    \"\"\"\n",
    "    # Define the transformation pipeline\n",
    "    transform = transforms.Compose([\n",
    "        transforms.Resize(resize_size),\n",
    "        transforms.ToTensor(),\n",
    "    ])\n",
    "    \n",
    "    if normalize:\n",
    "        transform = transforms.Compose([\n",
    "            transform,\n",
    "            transforms.Normalize(mean=[0.485, 0.456, 0.406], std=[0.229, 0.224, 0.225])\n",
    "        ])\n",
    "    \n",
    "    # Apply the transformation to the input image\n",
    "    tensor_image = transform(image)\n",
    "    \n",
    "    return tensor_image\n"
   ]
  },
  {
   "cell_type": "code",
   "execution_count": 8,
   "id": "96c3f876-a562-484b-980d-f48ab27a80d0",
   "metadata": {},
   "outputs": [],
   "source": [
    "#| hide\n",
    "# os.chdir(\"/project/validating_attribution_techniques/shardul/api_notebooks/\")\n",
    "from nbdev.export import nb_export\n",
    "nb_export('pil_to_tensor.ipynb', '/project/validating_attribution_techniques/commons/api/')"
   ]
  },
  {
   "cell_type": "code",
   "execution_count": null,
   "id": "4f6007e0-cb89-4dcd-bef5-93238ebc0e18",
   "metadata": {},
   "outputs": [],
   "source": []
  }
 ],
 "metadata": {
  "kernelspec": {
   "display_name": "Python 3 (ipykernel)",
   "language": "python",
   "name": "python3"
  },
  "language_info": {
   "codemirror_mode": {
    "name": "ipython",
    "version": 3
   },
   "file_extension": ".py",
   "mimetype": "text/x-python",
   "name": "python",
   "nbconvert_exporter": "python",
   "pygments_lexer": "ipython3",
   "version": "3.8.10"
  },
  "widgets": {
   "application/vnd.jupyter.widget-state+json": {
    "state": {},
    "version_major": 2,
    "version_minor": 0
   }
  }
 },
 "nbformat": 4,
 "nbformat_minor": 5
}
