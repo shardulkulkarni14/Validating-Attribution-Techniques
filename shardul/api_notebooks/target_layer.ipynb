{
 "cells": [
  {
   "cell_type": "code",
   "execution_count": 4,
   "id": "b9d46468-7a1a-46a6-a204-3beb0a63dedd",
   "metadata": {},
   "outputs": [],
   "source": [
    "#| default_exp target_layer"
   ]
  },
  {
   "cell_type": "code",
   "execution_count": 5,
   "id": "1a469c53-b18f-4560-80b2-5e654f3b46ba",
   "metadata": {},
   "outputs": [],
   "source": [
    "#| export\n",
    "import torchvision.models as models\n",
    "\n",
    "def get_model_and_target_layer(model_name):\n",
    "    \"\"\"\n",
    "    Get the model and its target layer based on the model name.\n",
    "\n",
    "    Args:\n",
    "        model_name (str): The name of the model (e.g., 'ResNet50', 'ResNet18', 'VGG16', 'InceptionV3').\n",
    "\n",
    "    Returns:\n",
    "        torch.nn.Module: The model instance.\n",
    "        str or torch.nn.Module: The target layer for the model.\n",
    "\n",
    "    Usage:\n",
    "    - Call this function to retrieve a model and its corresponding target layer based on the model name.\n",
    "    \"\"\"\n",
    "    if model_name == \"ResNet50\":\n",
    "        model = models.resnet50(pretrained=True).eval()\n",
    "        target_layer = model.layer4[-1]\n",
    "    elif model_name == \"ResNet18\":\n",
    "        model = models.resnet18(pretrained=True).eval()\n",
    "        target_layer = model.layer4[-1]\n",
    "    elif model_name == \"VGG16\":\n",
    "        model = models.vgg16(pretrained=True).eval()\n",
    "        target_layer = \"features.28\"\n",
    "    elif model_name == \"InceptionV3\":\n",
    "        model = models.inception_v3(pretrained=True).eval()\n",
    "        target_layer = model.Mixed_7c.branch3x3dbl_3b\n",
    "    else:\n",
    "        raise ValueError(\"Model not recognized. Please specify one of the supported model names.\")\n",
    "\n",
    "    return model, target_layer\n"
   ]
  },
  {
   "cell_type": "code",
   "execution_count": 6,
   "id": "182f9d2b-7c9f-45a0-b73d-b564daf67fc8",
   "metadata": {},
   "outputs": [],
   "source": [
    "#| hide\n",
    "# os.chdir(\"/project/validating_attribution_techniques/shardul/api_notebooks/\")\n",
    "from nbdev.export import nb_export\n",
    "nb_export('target_layer.ipynb', '/project/validating_attribution_techniques/commons/api')"
   ]
  },
  {
   "cell_type": "code",
   "execution_count": null,
   "id": "5614cf85-d842-4702-9a87-b0a2499520ea",
   "metadata": {},
   "outputs": [],
   "source": []
  }
 ],
 "metadata": {
  "kernelspec": {
   "display_name": "Python 3 (ipykernel)",
   "language": "python",
   "name": "python3"
  },
  "language_info": {
   "codemirror_mode": {
    "name": "ipython",
    "version": 3
   },
   "file_extension": ".py",
   "mimetype": "text/x-python",
   "name": "python",
   "nbconvert_exporter": "python",
   "pygments_lexer": "ipython3",
   "version": "3.8.10"
  },
  "widgets": {
   "application/vnd.jupyter.widget-state+json": {
    "state": {},
    "version_major": 2,
    "version_minor": 0
   }
  }
 },
 "nbformat": 4,
 "nbformat_minor": 5
}
